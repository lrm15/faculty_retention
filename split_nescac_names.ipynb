{
 "cells": [
  {
   "cell_type": "code",
   "execution_count": 1,
   "metadata": {},
   "outputs": [],
   "source": [
    "import pandas as pd \n",
    "from pathlib import Path  \n",
    "import numpy as np"
   ]
  },
  {
   "cell_type": "code",
   "execution_count": 5,
   "metadata": {},
   "outputs": [],
   "source": [
    "# df = pd.read_csv(\"nescac_tidy.csv\")\n",
    "# df = pd.read_csv(\"TrinityFinal.csv\")\n",
    "df = pd.read_csv(\"BowdoinFinalFinal.csv\")"
   ]
  },
  {
   "cell_type": "code",
   "execution_count": 6,
   "metadata": {},
   "outputs": [],
   "source": [
    "names = df.Name"
   ]
  },
  {
   "cell_type": "code",
   "execution_count": 7,
   "metadata": {},
   "outputs": [
    {
     "name": "stdout",
     "output_type": "stream",
     "text": [
      "['Pggjdfst!pg!Jotusvdujpo']\n",
      "['Pggjdfst!pg!Jotusvdujpo']\n",
      "['Pggjdfst!pg!Jotusvdujpo']\n",
      "['Pggjdfst!pg!Jotusvdujpo']\n",
      "['Pggjdfst!pg!Jotusvdujpo']\n",
      "['Pggjdfst!pg!Jotusvdujpo']\n"
     ]
    }
   ],
   "source": [
    "first = []\n",
    "middle = []\n",
    "last = []\n",
    "\n",
    "for name in names:\n",
    "    \n",
    "    name = str(name)\n",
    "    \n",
    "    split = name.split(maxsplit=2)\n",
    "    \n",
    "    if (len(split) == 3): \n",
    "        first.append(split[0])\n",
    "        middle.append(split[1])\n",
    "        last.append(split[2])\n",
    "    elif (len(split) == 2): \n",
    "        first.append(split[0])\n",
    "        middle.append(None)\n",
    "        last.append(split[1])\n",
    "    else: \n",
    "        print(split)\n",
    "        first.append(None)\n",
    "        middle.append(None)\n",
    "        last.append(None)\n",
    "        "
   ]
  },
  {
   "cell_type": "code",
   "execution_count": 8,
   "metadata": {},
   "outputs": [
    {
     "data": {
      "text/plain": [
       "True"
      ]
     },
     "execution_count": 8,
     "metadata": {},
     "output_type": "execute_result"
    }
   ],
   "source": [
    "len(first) == len(last) == len(middle) == len(names)\n"
   ]
  },
  {
   "cell_type": "code",
   "execution_count": 9,
   "metadata": {},
   "outputs": [],
   "source": [
    "df['First'] = first\n",
    "df['Middle'] = middle\n",
    "df['Last'] = last"
   ]
  },
  {
   "cell_type": "code",
   "execution_count": 10,
   "metadata": {},
   "outputs": [
    {
     "data": {
      "text/html": [
       "<div>\n",
       "<style scoped>\n",
       "    .dataframe tbody tr th:only-of-type {\n",
       "        vertical-align: middle;\n",
       "    }\n",
       "\n",
       "    .dataframe tbody tr th {\n",
       "        vertical-align: top;\n",
       "    }\n",
       "\n",
       "    .dataframe thead th {\n",
       "        text-align: right;\n",
       "    }\n",
       "</style>\n",
       "<table border=\"1\" class=\"dataframe\">\n",
       "  <thead>\n",
       "    <tr style=\"text-align: right;\">\n",
       "      <th></th>\n",
       "      <th>Unnamed: 0</th>\n",
       "      <th>College</th>\n",
       "      <th>Year</th>\n",
       "      <th>Name</th>\n",
       "      <th>Department</th>\n",
       "      <th>Position</th>\n",
       "      <th>Tenured?</th>\n",
       "      <th>Visiting?</th>\n",
       "      <th>Title</th>\n",
       "      <th>Education</th>\n",
       "      <th>On leave?</th>\n",
       "      <th>First</th>\n",
       "      <th>Middle</th>\n",
       "      <th>Last</th>\n",
       "    </tr>\n",
       "  </thead>\n",
       "  <tbody>\n",
       "    <tr>\n",
       "      <th>0</th>\n",
       "      <td>1</td>\n",
       "      <td>Bowdoin</td>\n",
       "      <td>2018</td>\n",
       "      <td>Aaron W. Kitch</td>\n",
       "      <td>English</td>\n",
       "      <td>Associate Prof.</td>\n",
       "      <td>Y</td>\n",
       "      <td>N</td>\n",
       "      <td>Associate Professor of English</td>\n",
       "      <td>BA (Yale), MA (Colorado–Boulder), PhD (Chicago)</td>\n",
       "      <td>Y</td>\n",
       "      <td>Aaron</td>\n",
       "      <td>W.</td>\n",
       "      <td>Kitch</td>\n",
       "    </tr>\n",
       "    <tr>\n",
       "      <th>1</th>\n",
       "      <td>2</td>\n",
       "      <td>Bowdoin</td>\n",
       "      <td>2017</td>\n",
       "      <td>Aaron W. Kitch</td>\n",
       "      <td>English</td>\n",
       "      <td>Associate Prof.</td>\n",
       "      <td>Y</td>\n",
       "      <td>N</td>\n",
       "      <td>Associate Professor of English</td>\n",
       "      <td>BA (Yale), MA (Colorado–Boulder), PhD (Chicago)</td>\n",
       "      <td>N</td>\n",
       "      <td>Aaron</td>\n",
       "      <td>W.</td>\n",
       "      <td>Kitch</td>\n",
       "    </tr>\n",
       "    <tr>\n",
       "      <th>2</th>\n",
       "      <td>3</td>\n",
       "      <td>Bowdoin</td>\n",
       "      <td>2016</td>\n",
       "      <td>Aaron W. Kitch</td>\n",
       "      <td>English</td>\n",
       "      <td>Associate Prof.</td>\n",
       "      <td>Y</td>\n",
       "      <td>N</td>\n",
       "      <td>Associate Professor of English</td>\n",
       "      <td>B.A. (Yale), M.A. (Colorado–Boulder), Ph.D. (...</td>\n",
       "      <td>N</td>\n",
       "      <td>Aaron</td>\n",
       "      <td>W.</td>\n",
       "      <td>Kitch</td>\n",
       "    </tr>\n",
       "    <tr>\n",
       "      <th>3</th>\n",
       "      <td>4</td>\n",
       "      <td>Bowdoin</td>\n",
       "      <td>2015</td>\n",
       "      <td>Aaron W. Kitch</td>\n",
       "      <td>English</td>\n",
       "      <td>Associate Prof.</td>\n",
       "      <td>Y</td>\n",
       "      <td>N</td>\n",
       "      <td>Associate Professor of English</td>\n",
       "      <td>B.A. (Yale), M.A. (Colorado–Boulder), Ph.D. (...</td>\n",
       "      <td>N</td>\n",
       "      <td>Aaron</td>\n",
       "      <td>W.</td>\n",
       "      <td>Kitch</td>\n",
       "    </tr>\n",
       "    <tr>\n",
       "      <th>4</th>\n",
       "      <td>5</td>\n",
       "      <td>Bowdoin</td>\n",
       "      <td>2014</td>\n",
       "      <td>Aaron W. Kitch</td>\n",
       "      <td>English</td>\n",
       "      <td>Associate Prof.</td>\n",
       "      <td>Y</td>\n",
       "      <td>N</td>\n",
       "      <td>Associate Professor of English</td>\n",
       "      <td>B.A. (Yale), M.A. (Colorado–Boulder), Ph.D. (...</td>\n",
       "      <td>N</td>\n",
       "      <td>Aaron</td>\n",
       "      <td>W.</td>\n",
       "      <td>Kitch</td>\n",
       "    </tr>\n",
       "  </tbody>\n",
       "</table>\n",
       "</div>"
      ],
      "text/plain": [
       "   Unnamed: 0  College  Year            Name Department         Position  \\\n",
       "0           1  Bowdoin  2018  Aaron W. Kitch    English  Associate Prof.   \n",
       "1           2  Bowdoin  2017  Aaron W. Kitch    English  Associate Prof.   \n",
       "2           3  Bowdoin  2016  Aaron W. Kitch    English  Associate Prof.   \n",
       "3           4  Bowdoin  2015  Aaron W. Kitch    English  Associate Prof.   \n",
       "4           5  Bowdoin  2014  Aaron W. Kitch    English  Associate Prof.   \n",
       "\n",
       "  Tenured? Visiting?                            Title  \\\n",
       "0        Y         N   Associate Professor of English   \n",
       "1        Y         N   Associate Professor of English   \n",
       "2        Y         N   Associate Professor of English   \n",
       "3        Y         N   Associate Professor of English   \n",
       "4        Y         N   Associate Professor of English   \n",
       "\n",
       "                                           Education On leave?  First Middle  \\\n",
       "0    BA (Yale), MA (Colorado–Boulder), PhD (Chicago)         Y  Aaron     W.   \n",
       "1    BA (Yale), MA (Colorado–Boulder), PhD (Chicago)         N  Aaron     W.   \n",
       "2   B.A. (Yale), M.A. (Colorado–Boulder), Ph.D. (...         N  Aaron     W.   \n",
       "3   B.A. (Yale), M.A. (Colorado–Boulder), Ph.D. (...         N  Aaron     W.   \n",
       "4   B.A. (Yale), M.A. (Colorado–Boulder), Ph.D. (...         N  Aaron     W.   \n",
       "\n",
       "    Last  \n",
       "0  Kitch  \n",
       "1  Kitch  \n",
       "2  Kitch  \n",
       "3  Kitch  \n",
       "4  Kitch  "
      ]
     },
     "execution_count": 10,
     "metadata": {},
     "output_type": "execute_result"
    }
   ],
   "source": [
    "df.head()"
   ]
  },
  {
   "cell_type": "code",
   "execution_count": 11,
   "metadata": {},
   "outputs": [],
   "source": [
    "# filepath = Path('/users/laurenmccarey/math308/nescac_split_names.csv')  \n",
    "# filepath.parent.mkdir(parents=True, exist_ok=True)  \n",
    "# df.to_csv(filepath)  "
   ]
  },
  {
   "cell_type": "code",
   "execution_count": 12,
   "metadata": {},
   "outputs": [],
   "source": [
    "# filepath = Path('/users/laurenmccarey/math308/trinity_split_names.csv')  \n",
    "# filepath.parent.mkdir(parents=True, exist_ok=True)  \n",
    "# df.to_csv(filepath)  "
   ]
  },
  {
   "cell_type": "code",
   "execution_count": 13,
   "metadata": {},
   "outputs": [],
   "source": [
    "filepath = Path('/users/laurenmccarey/math308/bowdoin_split_names.csv')  \n",
    "filepath.parent.mkdir(parents=True, exist_ok=True)  \n",
    "df.to_csv(filepath)  "
   ]
  },
  {
   "cell_type": "code",
   "execution_count": null,
   "metadata": {},
   "outputs": [],
   "source": []
  }
 ],
 "metadata": {
  "kernelspec": {
   "display_name": "Python 3",
   "language": "python",
   "name": "python3"
  },
  "language_info": {
   "codemirror_mode": {
    "name": "ipython",
    "version": 3
   },
   "file_extension": ".py",
   "mimetype": "text/x-python",
   "name": "python",
   "nbconvert_exporter": "python",
   "pygments_lexer": "ipython3",
   "version": "3.8.5"
  }
 },
 "nbformat": 4,
 "nbformat_minor": 4
}
