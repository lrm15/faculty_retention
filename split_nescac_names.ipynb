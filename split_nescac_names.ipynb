{
 "cells": [
  {
   "cell_type": "code",
   "execution_count": 1,
   "metadata": {},
   "outputs": [],
   "source": [
    "import pandas as pd \n",
    "from pathlib import Path  \n",
    "import numpy as np"
   ]
  },
  {
   "cell_type": "code",
   "execution_count": 12,
   "metadata": {},
   "outputs": [],
   "source": [
    "# df = pd.read_csv(\"nescac_tidy.csv\")\n",
    "df = pd.read_csv(\"TrinityFinal.csv\")"
   ]
  },
  {
   "cell_type": "code",
   "execution_count": 10,
   "metadata": {},
   "outputs": [],
   "source": [
    "names = df.Name"
   ]
  },
  {
   "cell_type": "code",
   "execution_count": 22,
   "metadata": {},
   "outputs": [
    {
     "name": "stdout",
     "output_type": "stream",
     "text": [
      "['Instructors']\n",
      "['nan']\n"
     ]
    }
   ],
   "source": [
    "first = []\n",
    "middle = []\n",
    "last = []\n",
    "\n",
    "for name in names:\n",
    "    \n",
    "    name = str(name)\n",
    "    \n",
    "    split = name.split(maxsplit=2)\n",
    "    \n",
    "    if (len(split) == 3): \n",
    "        first.append(split[0])\n",
    "        middle.append(split[1])\n",
    "        last.append(split[2])\n",
    "    elif (len(split) == 2): \n",
    "        first.append(split[0])\n",
    "        middle.append(None)\n",
    "        last.append(split[1])\n",
    "    else: \n",
    "        print(split)\n",
    "        first.append(None)\n",
    "        middle.append(None)\n",
    "        last.append(None)\n",
    "        "
   ]
  },
  {
   "cell_type": "code",
   "execution_count": 23,
   "metadata": {},
   "outputs": [
    {
     "data": {
      "text/plain": [
       "True"
      ]
     },
     "execution_count": 23,
     "metadata": {},
     "output_type": "execute_result"
    }
   ],
   "source": [
    "len(first) == len(last) == len(middle) == len(names)\n"
   ]
  },
  {
   "cell_type": "code",
   "execution_count": 24,
   "metadata": {},
   "outputs": [],
   "source": [
    "df['First'] = first\n",
    "df['Middle'] = middle\n",
    "df['Last'] = last"
   ]
  },
  {
   "cell_type": "code",
   "execution_count": 25,
   "metadata": {},
   "outputs": [
    {
     "data": {
      "text/html": [
       "<div>\n",
       "<style scoped>\n",
       "    .dataframe tbody tr th:only-of-type {\n",
       "        vertical-align: middle;\n",
       "    }\n",
       "\n",
       "    .dataframe tbody tr th {\n",
       "        vertical-align: top;\n",
       "    }\n",
       "\n",
       "    .dataframe thead th {\n",
       "        text-align: right;\n",
       "    }\n",
       "</style>\n",
       "<table border=\"1\" class=\"dataframe\">\n",
       "  <thead>\n",
       "    <tr style=\"text-align: right;\">\n",
       "      <th></th>\n",
       "      <th>Unnamed: 0</th>\n",
       "      <th>College</th>\n",
       "      <th>Year</th>\n",
       "      <th>Name</th>\n",
       "      <th>Department</th>\n",
       "      <th>Position</th>\n",
       "      <th>Tenured?</th>\n",
       "      <th>Visiting?</th>\n",
       "      <th>Title</th>\n",
       "      <th>Education</th>\n",
       "      <th>First</th>\n",
       "      <th>Middle</th>\n",
       "      <th>Last</th>\n",
       "    </tr>\n",
       "  </thead>\n",
       "  <tbody>\n",
       "    <tr>\n",
       "      <th>0</th>\n",
       "      <td>1</td>\n",
       "      <td>Trinity</td>\n",
       "      <td>2013</td>\n",
       "      <td>?ngela Morales</td>\n",
       "      <td>Culture Studies</td>\n",
       "      <td>Lecturer</td>\n",
       "      <td>N</td>\n",
       "      <td>Y</td>\n",
       "      <td>?ngela Morales, Visiting Lecturer in Language ...</td>\n",
       "      <td>B.A. 1986 (Universidad Autonoma de Madrid, Sp...</td>\n",
       "      <td>Angela</td>\n",
       "      <td>None</td>\n",
       "      <td>Morales</td>\n",
       "    </tr>\n",
       "    <tr>\n",
       "      <th>1</th>\n",
       "      <td>2</td>\n",
       "      <td>Trinity</td>\n",
       "      <td>2017</td>\n",
       "      <td>A. Stephen Lanza</td>\n",
       "      <td>Human Rights</td>\n",
       "      <td>Lecturer</td>\n",
       "      <td>N</td>\n",
       "      <td>Y</td>\n",
       "      <td>A. Stephen Lanza, Visiting Lecturer in Human R...</td>\n",
       "      <td>B.A. 1976, M.A. 1992 (Univ. of Connecticut) [</td>\n",
       "      <td>A.</td>\n",
       "      <td>Stephen</td>\n",
       "      <td>Lanza</td>\n",
       "    </tr>\n",
       "    <tr>\n",
       "      <th>2</th>\n",
       "      <td>3</td>\n",
       "      <td>Trinity</td>\n",
       "      <td>2021</td>\n",
       "      <td>Aaron Foote</td>\n",
       "      <td>Sociology</td>\n",
       "      <td>Assistant Prof.</td>\n",
       "      <td>N</td>\n",
       "      <td>Y</td>\n",
       "      <td>Aaron Foote, Visiting Assistant Professor of S...</td>\n",
       "      <td>B.A. 2012 (Michigan State Univ.), M.A. 2016, ...</td>\n",
       "      <td>Aaron</td>\n",
       "      <td>None</td>\n",
       "      <td>Foote</td>\n",
       "    </tr>\n",
       "    <tr>\n",
       "      <th>3</th>\n",
       "      <td>4</td>\n",
       "      <td>Trinity</td>\n",
       "      <td>2018</td>\n",
       "      <td>Aaron Hochheiser</td>\n",
       "      <td>Theater and Dance</td>\n",
       "      <td>Lecturer</td>\n",
       "      <td>N</td>\n",
       "      <td>Y</td>\n",
       "      <td>Aaron Hochheiser, Visiting Lecturer in Theater...</td>\n",
       "      <td>B.A. 2003 (Univ. at Albany-SUNY) [</td>\n",
       "      <td>Aaron</td>\n",
       "      <td>None</td>\n",
       "      <td>Hochheiser</td>\n",
       "    </tr>\n",
       "    <tr>\n",
       "      <th>4</th>\n",
       "      <td>5</td>\n",
       "      <td>Trinity</td>\n",
       "      <td>2019</td>\n",
       "      <td>Aaron Hochheiser</td>\n",
       "      <td>Theater and Dance</td>\n",
       "      <td>Lecturer</td>\n",
       "      <td>N</td>\n",
       "      <td>Y</td>\n",
       "      <td>Aaron Hochheiser, Visiting Lecturer in Theater...</td>\n",
       "      <td>B.A. 2003 (Univ. at Albany-SUNY) [</td>\n",
       "      <td>Aaron</td>\n",
       "      <td>None</td>\n",
       "      <td>Hochheiser</td>\n",
       "    </tr>\n",
       "  </tbody>\n",
       "</table>\n",
       "</div>"
      ],
      "text/plain": [
       "   Unnamed: 0  College  Year              Name         Department  \\\n",
       "0           1  Trinity  2013    ?ngela Morales    Culture Studies   \n",
       "1           2  Trinity  2017  A. Stephen Lanza       Human Rights   \n",
       "2           3  Trinity  2021       Aaron Foote          Sociology   \n",
       "3           4  Trinity  2018  Aaron Hochheiser  Theater and Dance   \n",
       "4           5  Trinity  2019  Aaron Hochheiser  Theater and Dance   \n",
       "\n",
       "          Position Tenured? Visiting?  \\\n",
       "0         Lecturer        N         Y   \n",
       "1         Lecturer        N         Y   \n",
       "2  Assistant Prof.        N         Y   \n",
       "3         Lecturer        N         Y   \n",
       "4         Lecturer        N         Y   \n",
       "\n",
       "                                               Title  \\\n",
       "0  ?ngela Morales, Visiting Lecturer in Language ...   \n",
       "1  A. Stephen Lanza, Visiting Lecturer in Human R...   \n",
       "2  Aaron Foote, Visiting Assistant Professor of S...   \n",
       "3  Aaron Hochheiser, Visiting Lecturer in Theater...   \n",
       "4  Aaron Hochheiser, Visiting Lecturer in Theater...   \n",
       "\n",
       "                                           Education   First   Middle  \\\n",
       "0   B.A. 1986 (Universidad Autonoma de Madrid, Sp...  Angela     None   \n",
       "1      B.A. 1976, M.A. 1992 (Univ. of Connecticut) [      A.  Stephen   \n",
       "2   B.A. 2012 (Michigan State Univ.), M.A. 2016, ...   Aaron     None   \n",
       "3                 B.A. 2003 (Univ. at Albany-SUNY) [   Aaron     None   \n",
       "4                 B.A. 2003 (Univ. at Albany-SUNY) [   Aaron     None   \n",
       "\n",
       "         Last  \n",
       "0     Morales  \n",
       "1       Lanza  \n",
       "2       Foote  \n",
       "3  Hochheiser  \n",
       "4  Hochheiser  "
      ]
     },
     "execution_count": 25,
     "metadata": {},
     "output_type": "execute_result"
    }
   ],
   "source": [
    "df.head()"
   ]
  },
  {
   "cell_type": "code",
   "execution_count": 26,
   "metadata": {},
   "outputs": [],
   "source": [
    "# filepath = Path('/users/laurenmccarey/math308/nescac_split_names.csv')  \n",
    "# filepath.parent.mkdir(parents=True, exist_ok=True)  \n",
    "# df.to_csv(filepath)  "
   ]
  },
  {
   "cell_type": "code",
   "execution_count": 27,
   "metadata": {},
   "outputs": [],
   "source": [
    "filepath = Path('/users/laurenmccarey/math308/trinity_split_names.csv')  \n",
    "filepath.parent.mkdir(parents=True, exist_ok=True)  \n",
    "df.to_csv(filepath)  "
   ]
  },
  {
   "cell_type": "code",
   "execution_count": null,
   "metadata": {},
   "outputs": [],
   "source": []
  }
 ],
 "metadata": {
  "kernelspec": {
   "display_name": "Python 3",
   "language": "python",
   "name": "python3"
  },
  "language_info": {
   "codemirror_mode": {
    "name": "ipython",
    "version": 3
   },
   "file_extension": ".py",
   "mimetype": "text/x-python",
   "name": "python",
   "nbconvert_exporter": "python",
   "pygments_lexer": "ipython3",
   "version": "3.8.5"
  }
 },
 "nbformat": 4,
 "nbformat_minor": 4
}
