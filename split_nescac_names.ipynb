{
 "cells": [
  {
   "cell_type": "code",
   "execution_count": 55,
   "metadata": {},
   "outputs": [],
   "source": [
    "import pandas as pd \n",
    "from pathlib import Path  \n",
    "import numpy as np"
   ]
  },
  {
   "cell_type": "code",
   "execution_count": 49,
   "metadata": {},
   "outputs": [],
   "source": [
    "df = pd.read_csv(\"nescac_tidy.csv\")"
   ]
  },
  {
   "cell_type": "code",
   "execution_count": 50,
   "metadata": {},
   "outputs": [],
   "source": [
    "names = df.Name"
   ]
  },
  {
   "cell_type": "code",
   "execution_count": 51,
   "metadata": {},
   "outputs": [
    {
     "name": "stdout",
     "output_type": "stream",
     "text": [
      "['instructors']\n",
      "['nan']\n"
     ]
    }
   ],
   "source": [
    "first = []\n",
    "middle = []\n",
    "last = []\n",
    "\n",
    "for name in names: \n",
    "    name = str(name)\n",
    "    split = name.split(maxsplit=2)\n",
    "    \n",
    "    if (len(split) == 3): \n",
    "        first.append(split[0])\n",
    "        middle.append(split[1])\n",
    "        last.append(split[2])\n",
    "    elif (len(split) == 2): \n",
    "        first.append(split[0])\n",
    "        middle.append(None)\n",
    "        last.append(split[1])\n",
    "    else: \n",
    "        print(split)\n",
    "        first.append(None)\n",
    "        middle.append(None)\n",
    "        last.append(None)\n",
    "        "
   ]
  },
  {
   "cell_type": "code",
   "execution_count": 52,
   "metadata": {},
   "outputs": [
    {
     "data": {
      "text/plain": [
       "True"
      ]
     },
     "execution_count": 52,
     "metadata": {},
     "output_type": "execute_result"
    }
   ],
   "source": [
    "len(first) == len(last) == len(middle) == len(names)\n"
   ]
  },
  {
   "cell_type": "code",
   "execution_count": 53,
   "metadata": {},
   "outputs": [],
   "source": [
    "df['First'] = first\n",
    "df['Middle'] = middle\n",
    "df['Last'] = last"
   ]
  },
  {
   "cell_type": "code",
   "execution_count": 54,
   "metadata": {},
   "outputs": [
    {
     "data": {
      "text/html": [
       "<div>\n",
       "<style scoped>\n",
       "    .dataframe tbody tr th:only-of-type {\n",
       "        vertical-align: middle;\n",
       "    }\n",
       "\n",
       "    .dataframe tbody tr th {\n",
       "        vertical-align: top;\n",
       "    }\n",
       "\n",
       "    .dataframe thead th {\n",
       "        text-align: right;\n",
       "    }\n",
       "</style>\n",
       "<table border=\"1\" class=\"dataframe\">\n",
       "  <thead>\n",
       "    <tr style=\"text-align: right;\">\n",
       "      <th></th>\n",
       "      <th>College</th>\n",
       "      <th>Year</th>\n",
       "      <th>Name</th>\n",
       "      <th>Department</th>\n",
       "      <th>Position</th>\n",
       "      <th>Title</th>\n",
       "      <th>Tenured?</th>\n",
       "      <th>Visiting?</th>\n",
       "      <th>Leave</th>\n",
       "      <th>Education</th>\n",
       "      <th>Entire Line</th>\n",
       "      <th>First</th>\n",
       "      <th>Middle</th>\n",
       "      <th>Last</th>\n",
       "    </tr>\n",
       "  </thead>\n",
       "  <tbody>\n",
       "    <tr>\n",
       "      <th>0</th>\n",
       "      <td>Trinity</td>\n",
       "      <td>2013</td>\n",
       "      <td>angela morales</td>\n",
       "      <td>culture studies</td>\n",
       "      <td>lecturer</td>\n",
       "      <td>visiting lecturer in language and culture stud...</td>\n",
       "      <td>N</td>\n",
       "      <td>Y</td>\n",
       "      <td>NaN</td>\n",
       "      <td>b.a. 1986 (universidad autonoma de madrid, spa...</td>\n",
       "      <td>NaN</td>\n",
       "      <td>angela</td>\n",
       "      <td>None</td>\n",
       "      <td>morales</td>\n",
       "    </tr>\n",
       "    <tr>\n",
       "      <th>1</th>\n",
       "      <td>Bowdoin</td>\n",
       "      <td>2010</td>\n",
       "      <td>a. myrick freeman iii</td>\n",
       "      <td>william d.</td>\n",
       "      <td>other</td>\n",
       "      <td>a. myrick freeman iii, a.b. (cornell), a.m., p...</td>\n",
       "      <td>N</td>\n",
       "      <td>N</td>\n",
       "      <td>NaN</td>\n",
       "      <td>a.b. (cornell), a.m., ph.d. (washington)</td>\n",
       "      <td>NaN</td>\n",
       "      <td>a.</td>\n",
       "      <td>myrick</td>\n",
       "      <td>freeman iii</td>\n",
       "    </tr>\n",
       "    <tr>\n",
       "      <th>2</th>\n",
       "      <td>Bowdoin</td>\n",
       "      <td>2011</td>\n",
       "      <td>a. myrick freeman iii</td>\n",
       "      <td>william d.</td>\n",
       "      <td>other</td>\n",
       "      <td>a. myrick freeman iii, a.b. (cornell), a.m., p...</td>\n",
       "      <td>N</td>\n",
       "      <td>N</td>\n",
       "      <td>NaN</td>\n",
       "      <td>a.b. (cornell), a.m., ph.d. (washington)</td>\n",
       "      <td>NaN</td>\n",
       "      <td>a.</td>\n",
       "      <td>myrick</td>\n",
       "      <td>freeman iii</td>\n",
       "    </tr>\n",
       "    <tr>\n",
       "      <th>3</th>\n",
       "      <td>Trinity</td>\n",
       "      <td>2017</td>\n",
       "      <td>a. stephen lanza</td>\n",
       "      <td>human rights</td>\n",
       "      <td>lecturer</td>\n",
       "      <td>visiting lecturer in human rights; b.a. 1976, ...</td>\n",
       "      <td>N</td>\n",
       "      <td>Y</td>\n",
       "      <td>NaN</td>\n",
       "      <td>b.a. 1976, m.a. 1992 (univ. of connecticut) [</td>\n",
       "      <td>NaN</td>\n",
       "      <td>a.</td>\n",
       "      <td>stephen</td>\n",
       "      <td>lanza</td>\n",
       "    </tr>\n",
       "    <tr>\n",
       "      <th>4</th>\n",
       "      <td>Hamilton</td>\n",
       "      <td>2007</td>\n",
       "      <td>a. todd franklin</td>\n",
       "      <td>philosophy</td>\n",
       "      <td>associate prof.</td>\n",
       "      <td>associate professor of philosophy</td>\n",
       "      <td>Y</td>\n",
       "      <td>N</td>\n",
       "      <td>NaN</td>\n",
       "      <td>ph.d., stanford university</td>\n",
       "      <td>NaN</td>\n",
       "      <td>a.</td>\n",
       "      <td>todd</td>\n",
       "      <td>franklin</td>\n",
       "    </tr>\n",
       "  </tbody>\n",
       "</table>\n",
       "</div>"
      ],
      "text/plain": [
       "    College  Year                   Name       Department         Position  \\\n",
       "0   Trinity  2013         angela morales  culture studies         lecturer   \n",
       "1   Bowdoin  2010  a. myrick freeman iii       william d.            other   \n",
       "2   Bowdoin  2011  a. myrick freeman iii       william d.            other   \n",
       "3   Trinity  2017       a. stephen lanza     human rights         lecturer   \n",
       "4  Hamilton  2007       a. todd franklin       philosophy  associate prof.   \n",
       "\n",
       "                                               Title Tenured? Visiting?  \\\n",
       "0  visiting lecturer in language and culture stud...        N         Y   \n",
       "1  a. myrick freeman iii, a.b. (cornell), a.m., p...        N         N   \n",
       "2  a. myrick freeman iii, a.b. (cornell), a.m., p...        N         N   \n",
       "3  visiting lecturer in human rights; b.a. 1976, ...        N         Y   \n",
       "4                  associate professor of philosophy        Y         N   \n",
       "\n",
       "   Leave                                          Education Entire Line  \\\n",
       "0    NaN  b.a. 1986 (universidad autonoma de madrid, spa...         NaN   \n",
       "1    NaN           a.b. (cornell), a.m., ph.d. (washington)         NaN   \n",
       "2    NaN           a.b. (cornell), a.m., ph.d. (washington)         NaN   \n",
       "3    NaN      b.a. 1976, m.a. 1992 (univ. of connecticut) [         NaN   \n",
       "4    NaN                         ph.d., stanford university         NaN   \n",
       "\n",
       "    First   Middle         Last  \n",
       "0  angela     None      morales  \n",
       "1      a.   myrick  freeman iii  \n",
       "2      a.   myrick  freeman iii  \n",
       "3      a.  stephen        lanza  \n",
       "4      a.     todd     franklin  "
      ]
     },
     "execution_count": 54,
     "metadata": {},
     "output_type": "execute_result"
    }
   ],
   "source": [
    "df.head()"
   ]
  },
  {
   "cell_type": "code",
   "execution_count": 56,
   "metadata": {},
   "outputs": [],
   "source": [
    "filepath = Path('/users/laurenmccarey/math308/nescac_split_names.csv')  \n",
    "filepath.parent.mkdir(parents=True, exist_ok=True)  \n",
    "df.to_csv(filepath)  "
   ]
  },
  {
   "cell_type": "code",
   "execution_count": null,
   "metadata": {},
   "outputs": [],
   "source": []
  }
 ],
 "metadata": {
  "kernelspec": {
   "display_name": "Python 3",
   "language": "python",
   "name": "python3"
  },
  "language_info": {
   "codemirror_mode": {
    "name": "ipython",
    "version": 3
   },
   "file_extension": ".py",
   "mimetype": "text/x-python",
   "name": "python",
   "nbconvert_exporter": "python",
   "pygments_lexer": "ipython3",
   "version": "3.8.5"
  }
 },
 "nbformat": 4,
 "nbformat_minor": 4
}
