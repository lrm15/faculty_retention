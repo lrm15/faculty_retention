{
 "cells": [
  {
   "cell_type": "code",
   "execution_count": 1,
   "metadata": {},
   "outputs": [],
   "source": [
    "import pandas as pd\n",
    "from pathlib import Path "
   ]
  },
  {
   "cell_type": "markdown",
   "metadata": {},
   "source": [
    "# Read in faculty21-22 data from csv"
   ]
  },
  {
   "cell_type": "code",
   "execution_count": 2,
   "metadata": {},
   "outputs": [
    {
     "data": {
      "text/plain": [
       "Index(['last', 'first', 'middle', 'title', 'degrees', 'leave', 'visiting'], dtype='object')"
      ]
     },
     "execution_count": 2,
     "metadata": {},
     "output_type": "execute_result"
    }
   ],
   "source": [
    "df21 = pd.read_csv('21-22/faculty21-22.csv')\n",
    "df21.drop(\"Unnamed: 0\", inplace=True, axis=1)\n",
    "\n",
    "df21.columns"
   ]
  },
  {
   "cell_type": "code",
   "execution_count": 3,
   "metadata": {},
   "outputs": [],
   "source": [
    "# parse department info \n",
    "\n",
    "d_list = [\"africana studies\", \"american studies\", \"ancient languages\", \"anthropology\", \"arabic studies\", \"art\", \"asian studies\", \"astronomy\", \"astrophysics\", \"biochemistry\", \"biology\", \"chemistry\", \"chinese\", \"classics\", \"greek\", \"latin\", \"cognitive science\", \"comparative literature\", \"computer science\", \"critical languages\", \"dance\", \"east asian languages\", \"economics\", \"english\", \"environmental studies\", \"experiential learning\", \"french\", \"geosciences\", \"german\", \"global studies\", \"history\", \"humanities\", \"international studies\", \"italian\", \"japanese\", \"jewish studies\", \"justice and law\", \"latina studies\", \"latino studies\", \"leadership studies\", \"maritime studies\", \"math\", \"music\", \"natural sciences\", \"neuroscience\", \"philosophy\", \"physical education\", \"physics\", \"political economy\", \"political science\", \"psychology\", \"public health\", \"religion\", \"romance languages\", \"russian\", \"science & technology studies\", \"social sciences\", \"social studies\", \"sociology\", \"spanish\", \"statistics\", \"theatre\", \"mystic\", \"WGGS\"]\n",
    "dept21 = []\n",
    "\n",
    "for title in df21.title: \n",
    "    affiliation = []\n",
    "    for d in d_list: \n",
    "        if d in title: \n",
    "            affiliation.append(d)\n",
    "    \n",
    "    if (\"biblical and early christian studies\" in title): \n",
    "        affiliation.append(\"religion\")\n",
    "        \n",
    "    if (\"geology\" in title): \n",
    "        affiliation.append(\"geosciences\")\n",
    "        \n",
    "    if (\"american\" in title) and (\"american studies\" not in title): \n",
    "        affiliation.append(\"american studies\")\n",
    "        \n",
    "    if (\"international\" in title): \n",
    "        affiliation.append(\"international studies\")\n",
    "        \n",
    "    \n",
    "    if (len(affiliation) < 1): \n",
    "        affiliation.append(None)\n",
    "    \n",
    "    dept21.append(affiliation)  \n",
    "    \n",
    "df21['dept'] = dept21"
   ]
  },
  {
   "cell_type": "code",
   "execution_count": 4,
   "metadata": {},
   "outputs": [
    {
     "data": {
      "text/html": [
       "<div>\n",
       "<style scoped>\n",
       "    .dataframe tbody tr th:only-of-type {\n",
       "        vertical-align: middle;\n",
       "    }\n",
       "\n",
       "    .dataframe tbody tr th {\n",
       "        vertical-align: top;\n",
       "    }\n",
       "\n",
       "    .dataframe thead th {\n",
       "        text-align: right;\n",
       "    }\n",
       "</style>\n",
       "<table border=\"1\" class=\"dataframe\">\n",
       "  <thead>\n",
       "    <tr style=\"text-align: right;\">\n",
       "      <th></th>\n",
       "      <th>last</th>\n",
       "      <th>first</th>\n",
       "      <th>middle</th>\n",
       "      <th>title</th>\n",
       "      <th>degrees</th>\n",
       "      <th>leave</th>\n",
       "      <th>visiting</th>\n",
       "      <th>dept</th>\n",
       "    </tr>\n",
       "  </thead>\n",
       "  <tbody>\n",
       "    <tr>\n",
       "      <th>0</th>\n",
       "      <td>aalberts</td>\n",
       "      <td>daniel</td>\n",
       "      <td>p.</td>\n",
       "      <td>kennedy p. richardson '71 professor of physics</td>\n",
       "      <td>1989, b.s., massachusetts institute of technol...</td>\n",
       "      <td>s</td>\n",
       "      <td>0</td>\n",
       "      <td>[physics]</td>\n",
       "    </tr>\n",
       "    <tr>\n",
       "      <th>1</th>\n",
       "      <td>adalsteinsson</td>\n",
       "      <td>tomas</td>\n",
       "      <td>NaN</td>\n",
       "      <td>assistant professor of physical education and ...</td>\n",
       "      <td>2011, m.a., john f. kennedy university</td>\n",
       "      <td>n</td>\n",
       "      <td>0</td>\n",
       "      <td>[physical education]</td>\n",
       "    </tr>\n",
       "    <tr>\n",
       "      <th>2</th>\n",
       "      <td>adams</td>\n",
       "      <td>colin</td>\n",
       "      <td>c.</td>\n",
       "      <td>thomas t. read professor of mathematics</td>\n",
       "      <td>1978, b.s., massachusetts institute of technol...</td>\n",
       "      <td>n</td>\n",
       "      <td>0</td>\n",
       "      <td>[math]</td>\n",
       "    </tr>\n",
       "    <tr>\n",
       "      <th>3</th>\n",
       "      <td>adhami</td>\n",
       "      <td>zaid</td>\n",
       "      <td>NaN</td>\n",
       "      <td>assistant professor of religion and faculty af...</td>\n",
       "      <td>2010, b.a., stanford university, 2010, m.a., s...</td>\n",
       "      <td>n</td>\n",
       "      <td>0</td>\n",
       "      <td>[anthropology, religion, sociology]</td>\n",
       "    </tr>\n",
       "    <tr>\n",
       "      <th>4</th>\n",
       "      <td>agosto</td>\n",
       "      <td>efrain</td>\n",
       "      <td>NaN</td>\n",
       "      <td>croghan bicentennial professor in biblical and...</td>\n",
       "      <td>1977, b.a., columbia university, 1982, m.div.,...</td>\n",
       "      <td>n</td>\n",
       "      <td>0</td>\n",
       "      <td>[religion]</td>\n",
       "    </tr>\n",
       "  </tbody>\n",
       "</table>\n",
       "</div>"
      ],
      "text/plain": [
       "            last   first middle  \\\n",
       "0       aalberts  daniel     p.   \n",
       "1  adalsteinsson   tomas    NaN   \n",
       "2          adams   colin     c.   \n",
       "3         adhami    zaid    NaN   \n",
       "4         agosto  efrain    NaN   \n",
       "\n",
       "                                               title  \\\n",
       "0     kennedy p. richardson '71 professor of physics   \n",
       "1  assistant professor of physical education and ...   \n",
       "2            thomas t. read professor of mathematics   \n",
       "3  assistant professor of religion and faculty af...   \n",
       "4  croghan bicentennial professor in biblical and...   \n",
       "\n",
       "                                             degrees leave  visiting  \\\n",
       "0  1989, b.s., massachusetts institute of technol...     s         0   \n",
       "1             2011, m.a., john f. kennedy university     n         0   \n",
       "2  1978, b.s., massachusetts institute of technol...     n         0   \n",
       "3  2010, b.a., stanford university, 2010, m.a., s...     n         0   \n",
       "4  1977, b.a., columbia university, 1982, m.div.,...     n         0   \n",
       "\n",
       "                                  dept  \n",
       "0                            [physics]  \n",
       "1                 [physical education]  \n",
       "2                               [math]  \n",
       "3  [anthropology, religion, sociology]  \n",
       "4                           [religion]  "
      ]
     },
     "execution_count": 4,
     "metadata": {},
     "output_type": "execute_result"
    }
   ],
   "source": [
    "df21.head()"
   ]
  },
  {
   "cell_type": "markdown",
   "metadata": {},
   "source": [
    "# Read in faculty 20-21 data from csv "
   ]
  },
  {
   "cell_type": "code",
   "execution_count": 5,
   "metadata": {},
   "outputs": [
    {
     "data": {
      "text/plain": [
       "Index(['name', 'title', 'degrees', 'leave', 'first', 'middle', 'last',\n",
       "       'visiting'],\n",
       "      dtype='object')"
      ]
     },
     "execution_count": 5,
     "metadata": {},
     "output_type": "execute_result"
    }
   ],
   "source": [
    "df20 = pd.read_csv('20-21/faculty20-21.csv')\n",
    "df20.drop(\"Unnamed: 0\", inplace=True, axis=1)\n",
    "\n",
    "# convert entire df to lowercase\n",
    "df20 = df20.apply(lambda x: x.astype(str).str.lower())\n",
    "\n",
    "# add desired columns \n",
    "first = []\n",
    "middle = []\n",
    "last = []\n",
    "visiting = []\n",
    "for i in range(0, len(df20)): \n",
    "    df20.name.iloc[i] = df20.name.iloc[i].split(\" \", maxsplit=2)\n",
    "    if (len(df20.name.iloc[i]) == 3): \n",
    "        first.append(df20.name.iloc[i][0])\n",
    "        middle.append(df20.name.iloc[i][1])\n",
    "        last.append(df20.name.iloc[i][2])\n",
    "    elif (len(df20.name.iloc[i]) == 2): \n",
    "        first.append(df20.name.iloc[i][0])\n",
    "        middle.append(None)\n",
    "        last.append(df20.name.iloc[i][1])\n",
    "        \n",
    "    if (\"visiting\" in df20.title.iloc[i]): \n",
    "        visiting.append(1)\n",
    "    else: \n",
    "        visiting.append(0)\n",
    "        \n",
    "df20['first'] = first\n",
    "df20['middle'] = middle\n",
    "df20['last'] = last \n",
    "df20['visiting'] = visiting\n",
    "\n",
    "\n",
    "df20.columns"
   ]
  },
  {
   "cell_type": "code",
   "execution_count": 6,
   "metadata": {},
   "outputs": [
    {
     "data": {
      "text/plain": [
       "Index(['name', 'title', 'degrees', 'leave', 'first', 'middle', 'last',\n",
       "       'visiting', 'dept'],\n",
       "      dtype='object')"
      ]
     },
     "execution_count": 6,
     "metadata": {},
     "output_type": "execute_result"
    }
   ],
   "source": [
    "# parse department info \n",
    "\n",
    "d_list = [\"africana studies\", \"american studies\", \"ancient languages\", \"anthropology\", \"arabic studies\", \"art\", \"asian studies\", \"astronomy\", \"astrophysics\", \"biochemistry\", \"biology\", \"chemistry\", \"chinese\", \"classics\", \"greek\", \"latin\", \"cognitive science\", \"comparative literature\", \"computer science\", \"critical languages\", \"dance\", \"east asian languages\", \"economics\", \"english\", \"environmental studies\", \"experiential learning\", \"french\", \"geosciences\", \"german\", \"global studies\", \"history\", \"humanities\", \"international studies\", \"italian\", \"japanese\", \"jewish studies\", \"justice and law\", \"latina studies\", \"latino studies\", \"leadership studies\", \"maritime studies\", \"math\", \"music\", \"natural sciences\", \"neuroscience\", \"philosophy\", \"physical education\", \"physics\", \"political economy\", \"political science\", \"psychology\", \"public health\", \"religion\", \"romance languages\", \"russian\", \"science & technology studies\", \"social sciences\", \"social studies\", \"sociology\", \"spanish\", \"statistics\", \"theatre\", \"mystic\", \"WGGS\"]\n",
    "dept20 = []\n",
    "\n",
    "for title in df20.title: \n",
    "    affiliation = []\n",
    "    for d in d_list: \n",
    "        if d in title: \n",
    "            affiliation.append(d)\n",
    "    \n",
    "    if (\"gender\" in title): \n",
    "        affiliation.append(\"WGGS\")\n",
    "    \n",
    "    if (\"biblical and early christian studies\" in title): \n",
    "        affiliation.append(\"religion\")\n",
    "        \n",
    "    if (\"geology\" in title): \n",
    "        affiliation.append(\"geosciences\")\n",
    "        \n",
    "    if (\"american\" in title) and (\"american studies\" not in title): \n",
    "        affiliation.append(\"american studies\")\n",
    "        \n",
    "    if (\"international\" in title): \n",
    "        affiliation.append(\"international studies\")\n",
    "        \n",
    "    \n",
    "    if (len(affiliation) < 1): \n",
    "        # print(title)\n",
    "        affiliation.append(None)\n",
    "    \n",
    "    dept20.append(affiliation)  \n",
    "    \n",
    "df20['dept'] = dept20\n",
    "\n",
    "df20.columns"
   ]
  },
  {
   "cell_type": "markdown",
   "metadata": {},
   "source": [
    "# Read in faculty 19-20 data from csv"
   ]
  },
  {
   "cell_type": "code",
   "execution_count": 7,
   "metadata": {},
   "outputs": [
    {
     "data": {
      "text/plain": [
       "Index(['name', 'title', 'degrees', 'leave', 'first', 'middle', 'last',\n",
       "       'visiting'],\n",
       "      dtype='object')"
      ]
     },
     "execution_count": 7,
     "metadata": {},
     "output_type": "execute_result"
    }
   ],
   "source": [
    "df19 = pd.read_csv('19-20/faculty19-20.csv')\n",
    "df19.drop(\"Unnamed: 0\", inplace=True, axis=1)\n",
    "\n",
    "# convert entire df to lowercase\n",
    "df19 = df19.apply(lambda x: x.astype(str).str.lower())\n",
    "\n",
    "# add desired columns \n",
    "first = []\n",
    "middle = []\n",
    "last = []\n",
    "visiting = []\n",
    "for i in range(0, len(df19)): \n",
    "    df19.name.iloc[i] = df19.name.iloc[i].split(\" \", maxsplit=2)\n",
    "    if (len(df19.name.iloc[i]) == 3): \n",
    "        first.append(df19.name.iloc[i][0])\n",
    "        middle.append(df19.name.iloc[i][1])\n",
    "        last.append(df19.name.iloc[i][2])\n",
    "    elif (len(df19.name.iloc[i]) == 2): \n",
    "        first.append(df19.name.iloc[i][0])\n",
    "        middle.append(None)\n",
    "        last.append(df19.name.iloc[i][1])\n",
    "    else: \n",
    "        print(df19.name.iloc[i])\n",
    "        print(i)\n",
    "        break\n",
    "        \n",
    "    if (\"visiting\" in df19.title.iloc[i]): \n",
    "        visiting.append(1)\n",
    "    else: \n",
    "        visiting.append(0)\n",
    "        \n",
    "df19['first'] = first\n",
    "df19['middle'] = middle\n",
    "df19['last'] = last \n",
    "df19['visiting'] = visiting\n",
    "\n",
    "df19.columns"
   ]
  },
  {
   "cell_type": "code",
   "execution_count": 8,
   "metadata": {},
   "outputs": [
    {
     "data": {
      "text/plain": [
       "Index(['name', 'title', 'degrees', 'leave', 'first', 'middle', 'last',\n",
       "       'visiting', 'dept'],\n",
       "      dtype='object')"
      ]
     },
     "execution_count": 8,
     "metadata": {},
     "output_type": "execute_result"
    }
   ],
   "source": [
    "# parse department info \n",
    "\n",
    "d_list = [\"africana studies\", \"american studies\", \"ancient languages\", \"anthropology\", \"arabic studies\", \"art\", \"asian studies\", \"astronomy\", \"astrophysics\", \"biochemistry\", \"biology\", \"chemistry\", \"chinese\", \"classics\", \"greek\", \"latin\", \"cognitive science\", \"comparative literature\", \"computer science\", \"critical languages\", \"dance\", \"east asian languages\", \"economics\", \"english\", \"environmental studies\", \"experiential learning\", \"french\", \"geosciences\", \"german\", \"global studies\", \"history\", \"humanities\", \"international studies\", \"italian\", \"japanese\", \"jewish studies\", \"justice and law\", \"latina studies\", \"latino studies\", \"leadership studies\", \"maritime studies\", \"math\", \"music\", \"natural sciences\", \"neuroscience\", \"philosophy\", \"physical education\", \"physics\", \"political economy\", \"political science\", \"psychology\", \"public health\", \"religion\", \"romance languages\", \"russian\", \"science & technology studies\", \"social sciences\", \"social studies\", \"sociology\", \"spanish\", \"statistics\", \"theatre\", \"mystic\", \"WGGS\"]\n",
    "dept19 = []\n",
    "\n",
    "for title in df19.title: \n",
    "    affiliation = []\n",
    "    for d in d_list: \n",
    "        if d in title: \n",
    "            affiliation.append(d)\n",
    "    \n",
    "    if (\"gender\" in title): \n",
    "        affiliation.append(\"WGGS\")\n",
    "    \n",
    "    if (\"biblical and early christian studies\" in title): \n",
    "        affiliation.append(\"religion\")\n",
    "        \n",
    "    if (\"geology\" in title): \n",
    "        affiliation.append(\"geosciences\")\n",
    "        \n",
    "    if (\"american\" in title) and (\"american studies\" not in title): \n",
    "        affiliation.append(\"american studies\")\n",
    "        \n",
    "    if (\"international\" in title): \n",
    "        affiliation.append(\"international studies\")\n",
    "        \n",
    "    \n",
    "    if (len(affiliation) < 1): \n",
    "        # print(title)\n",
    "        affiliation.append(None)\n",
    "    \n",
    "    dept19.append(affiliation)  \n",
    "    \n",
    "df19['dept'] = dept19\n",
    "\n",
    "df19.columns"
   ]
  },
  {
   "cell_type": "markdown",
   "metadata": {},
   "source": [
    "# Read in faculty 18-19 data from csv"
   ]
  },
  {
   "cell_type": "code",
   "execution_count": 9,
   "metadata": {},
   "outputs": [
    {
     "data": {
      "text/plain": [
       "Index(['name', 'title', 'degrees', 'leave', 'first', 'middle', 'last',\n",
       "       'visiting'],\n",
       "      dtype='object')"
      ]
     },
     "execution_count": 9,
     "metadata": {},
     "output_type": "execute_result"
    }
   ],
   "source": [
    "df18 = pd.read_csv('18-19/faculty18-19.csv')\n",
    "df18.drop(\"Unnamed: 0\", inplace=True, axis=1)\n",
    "\n",
    "# convert entire df to lowercase\n",
    "df18 = df18.apply(lambda x: x.astype(str).str.lower())\n",
    "\n",
    "# add desired columns \n",
    "first = []\n",
    "middle = []\n",
    "last = []\n",
    "visiting = []\n",
    "for i in range(0, len(df18)): \n",
    "    df18.name.iloc[i] = df18.name.iloc[i].split(\" \", maxsplit=2)\n",
    "    if (len(df18.name.iloc[i]) == 3): \n",
    "        first.append(df18.name.iloc[i][0])\n",
    "        middle.append(df18.name.iloc[i][1])\n",
    "        last.append(df18.name.iloc[i][2])\n",
    "    elif (len(df18.name.iloc[i]) == 2): \n",
    "        first.append(df18.name.iloc[i][0])\n",
    "        middle.append(None)\n",
    "        last.append(df18.name.iloc[i][1])\n",
    "    else: \n",
    "        print(df18.name.iloc[i])\n",
    "        print(i)\n",
    "        break\n",
    "        \n",
    "    if (\"visiting\" in df18.title.iloc[i]): \n",
    "        visiting.append(1)\n",
    "    else: \n",
    "        visiting.append(0)\n",
    "        \n",
    "df18['first'] = first\n",
    "df18['middle'] = middle\n",
    "df18['last'] = last \n",
    "df18['visiting'] = visiting\n",
    "\n",
    "df18.columns"
   ]
  },
  {
   "cell_type": "code",
   "execution_count": 10,
   "metadata": {},
   "outputs": [],
   "source": [
    "# parse department info \n",
    "\n",
    "d_list = [\"africana studies\", \"american studies\", \"ancient languages\", \"anthropology\", \"arabic studies\", \"art\", \"asian studies\", \"astronomy\", \"astrophysics\", \"biochemistry\", \"biology\", \"chemistry\", \"chinese\", \"classics\", \"greek\", \"latin\", \"cognitive science\", \"comparative literature\", \"computer science\", \"critical languages\", \"dance\", \"east asian languages\", \"economics\", \"english\", \"environmental studies\", \"experiential learning\", \"french\", \"geosciences\", \"german\", \"global studies\", \"history\", \"humanities\", \"international studies\", \"italian\", \"japanese\", \"jewish studies\", \"justice and law\", \"latina studies\", \"latino studies\", \"leadership studies\", \"maritime studies\", \"math\", \"music\", \"natural sciences\", \"neuroscience\", \"philosophy\", \"physical education\", \"physics\", \"political economy\", \"political science\", \"psychology\", \"public health\", \"religion\", \"romance languages\", \"russian\", \"science & technology studies\", \"social sciences\", \"social studies\", \"sociology\", \"spanish\", \"statistics\", \"theatre\", \"mystic\", \"WGGS\"]\n",
    "dept18 = []\n",
    "\n",
    "for title in df18.title: \n",
    "    affiliation = []\n",
    "    for d in d_list: \n",
    "        if d in title: \n",
    "            affiliation.append(d)\n",
    "    \n",
    "    if (\"gender\" in title): \n",
    "        affiliation.append(\"WGGS\")\n",
    "    \n",
    "    if (\"biblical and early christian studies\" in title): \n",
    "        affiliation.append(\"religion\")\n",
    "        \n",
    "    if (\"geology\" in title): \n",
    "        affiliation.append(\"geosciences\")\n",
    "        \n",
    "    if (\"american\" in title) and (\"american studies\" not in title): \n",
    "        affiliation.append(\"american studies\")\n",
    "        \n",
    "    if (\"international\" in title): \n",
    "        affiliation.append(\"international studies\")\n",
    "        \n",
    "    \n",
    "    if (len(affiliation) < 1): \n",
    "        # print(title)\n",
    "        affiliation.append(None)\n",
    "    \n",
    "    dept18.append(affiliation)  \n",
    "    \n",
    "df18['dept'] = dept18"
   ]
  },
  {
   "cell_type": "markdown",
   "metadata": {},
   "source": [
    "# Read in faculty 17-18 data from csv\n"
   ]
  },
  {
   "cell_type": "code",
   "execution_count": 11,
   "metadata": {},
   "outputs": [
    {
     "data": {
      "text/plain": [
       "Index(['last', 'first', 'middle', 'title', 'degrees', 'leave', 'visiting'], dtype='object')"
      ]
     },
     "execution_count": 11,
     "metadata": {},
     "output_type": "execute_result"
    }
   ],
   "source": [
    "df17 = pd.read_csv('17-18/faculty17-18.csv')\n",
    "df17.drop(\"Unnamed: 0\", inplace=True, axis=1)\n",
    "\n",
    "df17.columns"
   ]
  },
  {
   "cell_type": "code",
   "execution_count": 12,
   "metadata": {},
   "outputs": [
    {
     "data": {
      "text/plain": [
       "Index(['last', 'first', 'middle', 'title', 'degrees', 'leave', 'visiting',\n",
       "       'dept'],\n",
       "      dtype='object')"
      ]
     },
     "execution_count": 12,
     "metadata": {},
     "output_type": "execute_result"
    }
   ],
   "source": [
    "# parse department info \n",
    "\n",
    "d_list = [\"africana studies\", \"american studies\", \"ancient languages\", \"anthropology\", \"arabic studies\", \"art\", \"asian studies\", \"astronomy\", \"astrophysics\", \"biochemistry\", \"biology\", \"chemistry\", \"chinese\", \"classics\", \"greek\", \"latin\", \"cognitive science\", \"comparative literature\", \"computer science\", \"critical languages\", \"dance\", \"east asian languages\", \"economics\", \"english\", \"environmental studies\", \"experiential learning\", \"french\", \"geosciences\", \"german\", \"global studies\", \"history\", \"humanities\", \"international studies\", \"italian\", \"japanese\", \"jewish studies\", \"justice and law\", \"latina studies\", \"latino studies\", \"leadership studies\", \"maritime studies\", \"math\", \"music\", \"natural sciences\", \"neuroscience\", \"philosophy\", \"physical education\", \"physics\", \"political economy\", \"political science\", \"psychology\", \"public health\", \"religion\", \"romance languages\", \"russian\", \"science & technology studies\", \"social sciences\", \"social studies\", \"sociology\", \"spanish\", \"statistics\", \"theatre\", \"mystic\", \"wggs\"]\n",
    "dept17 = []\n",
    "\n",
    "for title in df17.title: \n",
    "    affiliation = []\n",
    "    for d in d_list: \n",
    "        if d in title: \n",
    "            affiliation.append(d)\n",
    "    \n",
    "    if (\"gender\" in title): \n",
    "        affiliation.append(\"WGGS\")\n",
    "        \n",
    "    if (\"environmental\" in title) and (\"environmental studies\" not in title): \n",
    "        affiliation.append(\"environmental studies\")\n",
    "    \n",
    "    if (\"biblical and early christian studies\" in title): \n",
    "        affiliation.append(\"religion\")\n",
    "        \n",
    "    if (\"geology\" in title): \n",
    "        affiliation.append(\"geosciences\")\n",
    "        \n",
    "    if (\"oceanography\" in title): \n",
    "        affiliation.append(\"geosciences\")\n",
    "        \n",
    "    if (\"american\" in title) and (\"american studies\" not in title): \n",
    "        affiliation.append(\"american studies\")\n",
    "        \n",
    "    if (\"international\" in title): \n",
    "        affiliation.append(\"international studies\")\n",
    "        \n",
    "    \n",
    "    if (len(affiliation) < 1): \n",
    "        # print(title)\n",
    "        affiliation.append(None)\n",
    "    \n",
    "    dept17.append(affiliation)  \n",
    "    \n",
    "df17['dept'] = dept17\n",
    "\n",
    "df17.columns"
   ]
  },
  {
   "cell_type": "markdown",
   "metadata": {},
   "source": [
    "# Read in faculty 16-17 data from csv"
   ]
  },
  {
   "cell_type": "code",
   "execution_count": 13,
   "metadata": {},
   "outputs": [
    {
     "data": {
      "text/plain": [
       "Index(['last', 'first', 'middle', 'title', 'degrees', 'leave', 'visiting'], dtype='object')"
      ]
     },
     "execution_count": 13,
     "metadata": {},
     "output_type": "execute_result"
    }
   ],
   "source": [
    "df16 = pd.read_csv('16-17/faculty16-17.csv')\n",
    "df16.drop(\"Unnamed: 0\", inplace=True, axis=1)\n",
    "\n",
    "# convert entire df to lowercase\n",
    "df16 = df16.apply(lambda x: x.astype(str).str.lower())\n",
    "\n",
    "df16.columns"
   ]
  },
  {
   "cell_type": "code",
   "execution_count": 14,
   "metadata": {},
   "outputs": [
    {
     "data": {
      "text/plain": [
       "Index(['last', 'first', 'middle', 'title', 'degrees', 'leave', 'visiting',\n",
       "       'dept'],\n",
       "      dtype='object')"
      ]
     },
     "execution_count": 14,
     "metadata": {},
     "output_type": "execute_result"
    }
   ],
   "source": [
    "# parse department info \n",
    "\n",
    "d_list = [\"africana studies\", \"american studies\", \"ancient languages\", \"anthropology\", \"arabic studies\", \"art\", \"asian studies\", \"astronomy\", \"astrophysics\", \"biochemistry\", \"biology\", \"chemistry\", \"chinese\", \"classics\", \"greek\", \"latin\", \"cognitive science\", \"comparative literature\", \"computer science\", \"critical languages\", \"dance\", \"east asian languages\", \"economics\", \"english\", \"environmental studies\", \"experiential learning\", \"french\", \"geosciences\", \"german\", \"global studies\", \"history\", \"humanities\", \"international studies\", \"italian\", \"japanese\", \"jewish studies\", \"justice and law\", \"latina studies\", \"latino studies\", \"leadership studies\", \"maritime studies\", \"math\", \"music\", \"natural sciences\", \"neuroscience\", \"philosophy\", \"physical education\", \"physics\", \"political economy\", \"political science\", \"psychology\", \"public health\", \"religion\", \"romance languages\", \"russian\", \"science & technology studies\", \"social sciences\", \"social studies\", \"sociology\", \"spanish\", \"statistics\", \"theatre\", \"mystic\", \"wggs\"]\n",
    "dept16 = []\n",
    "\n",
    "for title in df16.title: \n",
    "    affiliation = []\n",
    "    for d in d_list: \n",
    "        if d in title: \n",
    "            affiliation.append(d)\n",
    "    \n",
    "    if (\"gender\" in title): \n",
    "        affiliation.append(\"WGGS\")\n",
    "        \n",
    "    if (\"environmental\" in title) and (\"environmental studies\" not in title): \n",
    "        affiliation.append(\"environmental studies\")\n",
    "    \n",
    "    if (\"biblical and early christian studies\" in title): \n",
    "        affiliation.append(\"religion\")\n",
    "        \n",
    "        \n",
    "    if (\"arabic\" in title) and (\"arabic studies\" not in title): \n",
    "        affiliation.append(\"arabic studies\")\n",
    "    \n",
    "    if (\"geology\" in title): \n",
    "        affiliation.append(\"geosciences\")\n",
    "        \n",
    "    if (\"oceanography\" in title): \n",
    "        affiliation.append(\"geosciences\")\n",
    "        \n",
    "    if (\"american\" in title) and (\"american studies\" not in title): \n",
    "        affiliation.append(\"american studies\")\n",
    "        \n",
    "    if (\"marine\" in title): \n",
    "        affiliation.append(\"maritime studies\")\n",
    "        \n",
    "    if (\"poetry\" in title): \n",
    "        affiliation.append(\"english\")\n",
    "        \n",
    "    if (\"international\" in title): \n",
    "        affiliation.append(\"international studies\")\n",
    "        \n",
    "    \n",
    "    if (len(affiliation) < 1): \n",
    "        # print(title)\n",
    "        affiliation.append(None)\n",
    "    \n",
    "    dept16.append(affiliation)  \n",
    "    \n",
    "df16['dept'] = dept16\n",
    "\n",
    "df16.columns"
   ]
  },
  {
   "cell_type": "markdown",
   "metadata": {},
   "source": [
    "# Read in faculty 15-16 data from csv"
   ]
  },
  {
   "cell_type": "code",
   "execution_count": 15,
   "metadata": {},
   "outputs": [
    {
     "data": {
      "text/plain": [
       "Index(['last', 'first', 'middle', 'dept', 'leave', 'visiting', 'title'], dtype='object')"
      ]
     },
     "execution_count": 15,
     "metadata": {},
     "output_type": "execute_result"
    }
   ],
   "source": [
    "df15 = pd.read_csv('15-16/faculty15-16.csv')\n",
    "df15.drop(\"Unnamed: 0\", inplace=True, axis=1)\n",
    "\n",
    "# convert entire df to lowercase\n",
    "df15 = df15.apply(lambda x: x.astype(str).str.lower())\n",
    "\n",
    "df15['title'] = None\n",
    "\n",
    "df15.columns"
   ]
  },
  {
   "cell_type": "markdown",
   "metadata": {},
   "source": [
    "# Read in faculty 14-15 data from csv"
   ]
  },
  {
   "cell_type": "code",
   "execution_count": 16,
   "metadata": {},
   "outputs": [
    {
     "data": {
      "text/plain": [
       "Index(['last', 'first', 'middle', 'title', 'leave', 'visiting'], dtype='object')"
      ]
     },
     "execution_count": 16,
     "metadata": {},
     "output_type": "execute_result"
    }
   ],
   "source": [
    "df14 = pd.read_csv('14-15/faculty14-15.csv')\n",
    "df14.drop(\"Unnamed: 0\", inplace=True, axis=1)\n",
    "\n",
    "# convert entire df to lowercase\n",
    "df14 = df14.apply(lambda x: x.astype(str).str.lower())\n",
    "\n",
    "df14.columns"
   ]
  },
  {
   "cell_type": "code",
   "execution_count": 17,
   "metadata": {},
   "outputs": [
    {
     "data": {
      "text/plain": [
       "Index(['last', 'first', 'middle', 'title', 'leave', 'visiting', 'dept'], dtype='object')"
      ]
     },
     "execution_count": 17,
     "metadata": {},
     "output_type": "execute_result"
    }
   ],
   "source": [
    "# parse department info \n",
    "\n",
    "d_list = [\"africana studies\", \"american studies\", \"ancient languages\", \"anthropology\", \"arabic studies\", \"art\", \"asian studies\", \"astronomy\", \"astrophysics\", \"biochemistry\", \"biology\", \"chemistry\", \"chinese\", \"classics\", \"greek\", \"latin\", \"cognitive science\", \"comparative literature\", \"computer science\", \"critical languages\", \"dance\", \"east asian languages\", \"economics\", \"english\", \"environmental studies\", \"experiential learning\", \"french\", \"geosciences\", \"german\", \"global studies\", \"history\", \"humanities\", \"international studies\", \"italian\", \"japanese\", \"jewish studies\", \"justice and law\", \"latina studies\", \"latino studies\", \"leadership studies\", \"maritime studies\", \"math\", \"music\", \"natural sciences\", \"neuroscience\", \"philosophy\", \"physical education\", \"physics\", \"political economy\", \"political science\", \"psychology\", \"public health\", \"religion\", \"romance languages\", \"russian\", \"science & technology studies\", \"social sciences\", \"social studies\", \"sociology\", \"spanish\", \"statistics\", \"theatre\", \"mystic\", \"wggs\"]\n",
    "dept14 = []\n",
    "\n",
    "for title in df14.title: \n",
    "    affiliation = []\n",
    "    for d in d_list: \n",
    "        if d in title: \n",
    "            affiliation.append(d)\n",
    "    \n",
    "    if (\"gender\" in title): \n",
    "        affiliation.append(\"WGGS\")\n",
    "        \n",
    "    if (\"environmental\" in title) and (\"environmental studies\" not in title): \n",
    "        affiliation.append(\"environmental studies\")\n",
    "    \n",
    "    if (\"biblical and early christian studies\" in title): \n",
    "        affiliation.append(\"religion\")\n",
    "        \n",
    "        \n",
    "    if (\"arabic\" in title) and (\"arabic studies\" not in title): \n",
    "        affiliation.append(\"arabic studies\")\n",
    "    \n",
    "    if (\"geology\" in title): \n",
    "        affiliation.append(\"geosciences\")\n",
    "        \n",
    "    if (\"oceanography\" in title): \n",
    "        affiliation.append(\"geosciences\")\n",
    "        \n",
    "    if (\"american\" in title) and (\"american studies\" not in title): \n",
    "        affiliation.append(\"american studies\")\n",
    "        \n",
    "    if (\"marine\" in title): \n",
    "        affiliation.append(\"maritime studies\")\n",
    "        \n",
    "    if (\"poetry\" in title): \n",
    "        affiliation.append(\"english\")\n",
    "        \n",
    "    if (\"international\" in title): \n",
    "        affiliation.append(\"international studies\")\n",
    "        \n",
    "    if (\"athletics\" in title) and (\"physical education\" not in title): \n",
    "        affiliation.append(\"physical education\")\n",
    "        \n",
    "    \n",
    "    if (len(affiliation) < 1): \n",
    "        # print(title)\n",
    "        affiliation.append(None)\n",
    "    \n",
    "    dept14.append(affiliation)  \n",
    "    \n",
    "df14['dept'] = dept14\n",
    "\n",
    "df14.columns"
   ]
  },
  {
   "cell_type": "markdown",
   "metadata": {},
   "source": [
    "# Read in faculty 13-14 data from csv"
   ]
  },
  {
   "cell_type": "code",
   "execution_count": 18,
   "metadata": {},
   "outputs": [
    {
     "data": {
      "text/plain": [
       "Index(['last', 'first', 'middle', 'title', 'degrees', 'leave', 'visiting'], dtype='object')"
      ]
     },
     "execution_count": 18,
     "metadata": {},
     "output_type": "execute_result"
    }
   ],
   "source": [
    "df13 = pd.read_csv('13-14/faculty13-14.csv')\n",
    "df13.drop(\"Unnamed: 0\", inplace=True, axis=1)\n",
    "\n",
    "df13.columns"
   ]
  },
  {
   "cell_type": "code",
   "execution_count": 19,
   "metadata": {},
   "outputs": [
    {
     "data": {
      "text/plain": [
       "Index(['last', 'first', 'middle', 'title', 'degrees', 'leave', 'visiting',\n",
       "       'dept'],\n",
       "      dtype='object')"
      ]
     },
     "execution_count": 19,
     "metadata": {},
     "output_type": "execute_result"
    }
   ],
   "source": [
    "# parse department info \n",
    "\n",
    "d_list = [\"africana studies\", \"american studies\", \"ancient languages\", \"anthropology\", \"arabic studies\", \"art\", \"asian studies\", \"astronomy\", \"astrophysics\", \"biochemistry\", \"biology\", \"chemistry\", \"chinese\", \"classics\", \"greek\", \"latin\", \"cognitive science\", \"comparative literature\", \"computer science\", \"critical languages\", \"dance\", \"east asian languages\", \"economics\", \"english\", \"environmental studies\", \"experiential learning\", \"french\", \"geosciences\", \"german\", \"global studies\", \"history\", \"humanities\", \"international studies\", \"italian\", \"japanese\", \"jewish studies\", \"justice and law\", \"latina studies\", \"latino studies\", \"leadership studies\", \"maritime studies\", \"math\", \"music\", \"natural sciences\", \"neuroscience\", \"philosophy\", \"physical education\", \"physics\", \"political economy\", \"political science\", \"psychology\", \"public health\", \"religion\", \"romance languages\", \"russian\", \"science & technology studies\", \"social sciences\", \"social studies\", \"sociology\", \"spanish\", \"statistics\", \"theatre\", \"mystic\", \"wggs\"]\n",
    "dept13 = []\n",
    "\n",
    "for title in df13.title: \n",
    "    affiliation = []\n",
    "    for d in d_list: \n",
    "        if d in title: \n",
    "            affiliation.append(d)\n",
    "    \n",
    "    if (\"gender\" in title): \n",
    "        affiliation.append(\"WGGS\")\n",
    "        \n",
    "    if (\"environmental\" in title) and (\"environmental studies\" not in title): \n",
    "        affiliation.append(\"environmental studies\")\n",
    "    \n",
    "    if (\"biblical and early christian studies\" in title): \n",
    "        affiliation.append(\"religion\")\n",
    "        \n",
    "        \n",
    "    if (\"arabic\" in title) and (\"arabic studies\" not in title): \n",
    "        affiliation.append(\"arabic studies\")\n",
    "    \n",
    "    if (\"geology\" in title): \n",
    "        affiliation.append(\"geosciences\")\n",
    "        \n",
    "    if (\"oceanography\" in title): \n",
    "        affiliation.append(\"geosciences\")\n",
    "        \n",
    "    if (\"american\" in title) and (\"american studies\" not in title): \n",
    "        affiliation.append(\"american studies\")\n",
    "        \n",
    "    if (\"marine\" in title): \n",
    "        affiliation.append(\"maritime studies\")\n",
    "        \n",
    "    if (\"poetry\" in title): \n",
    "        affiliation.append(\"english\")\n",
    "        \n",
    "    if (\"international\" in title): \n",
    "        affiliation.append(\"international studies\")\n",
    "        \n",
    "    if (\"athletics\" in title) and (\"physical education\" not in title): \n",
    "        affiliation.append(\"physical education\")\n",
    "        \n",
    "    if (\"romance language\" in title): \n",
    "        affiliation.append(\"romance languages\")\n",
    "        \n",
    "    \n",
    "    if (len(affiliation) < 1): \n",
    "        # print(title)\n",
    "        affiliation.append(None)\n",
    "    \n",
    "    dept13.append(affiliation)  \n",
    "    \n",
    "df13['dept'] = dept13\n",
    "\n",
    "df13.columns"
   ]
  },
  {
   "cell_type": "markdown",
   "metadata": {},
   "source": [
    "# Read in faculty 12-13 data from csv"
   ]
  },
  {
   "cell_type": "code",
   "execution_count": 20,
   "metadata": {},
   "outputs": [
    {
     "data": {
      "text/plain": [
       "Index(['last', 'first', 'middle', 'title', 'degrees', 'leave', 'visiting'], dtype='object')"
      ]
     },
     "execution_count": 20,
     "metadata": {},
     "output_type": "execute_result"
    }
   ],
   "source": [
    "df12 = pd.read_csv('12-13/faculty12-13.csv')\n",
    "df12.drop(\"Unnamed: 0\", inplace=True, axis=1)\n",
    "\n",
    "df12.columns"
   ]
  },
  {
   "cell_type": "code",
   "execution_count": 21,
   "metadata": {},
   "outputs": [
    {
     "data": {
      "text/plain": [
       "Index(['last', 'first', 'middle', 'title', 'degrees', 'leave', 'visiting',\n",
       "       'dept'],\n",
       "      dtype='object')"
      ]
     },
     "execution_count": 21,
     "metadata": {},
     "output_type": "execute_result"
    }
   ],
   "source": [
    "# parse department info \n",
    "\n",
    "d_list = [\"africana studies\", \"american studies\", \"ancient languages\", \"anthropology\", \"arabic studies\", \"art\", \"asian studies\", \"astronomy\", \"astrophysics\", \"biochemistry\", \"biology\", \"chemistry\", \"chinese\", \"classics\", \"greek\", \"latin\", \"cognitive science\", \"comparative literature\", \"computer science\", \"critical languages\", \"dance\", \"east asian languages\", \"economics\", \"english\", \"environmental studies\", \"experiential learning\", \"french\", \"geosciences\", \"german\", \"global studies\", \"history\", \"humanities\", \"international studies\", \"italian\", \"japanese\", \"jewish studies\", \"justice and law\", \"latina studies\", \"latino studies\", \"leadership studies\", \"maritime studies\", \"math\", \"music\", \"natural sciences\", \"neuroscience\", \"philosophy\", \"physical education\", \"physics\", \"political economy\", \"political science\", \"psychology\", \"public health\", \"religion\", \"romance languages\", \"russian\", \"science & technology studies\", \"social sciences\", \"social studies\", \"sociology\", \"spanish\", \"statistics\", \"theatre\", \"mystic\", \"wggs\"]\n",
    "dept12 = []\n",
    "\n",
    "for title in df12.title: \n",
    "    affiliation = []\n",
    "    for d in d_list: \n",
    "        if d in title: \n",
    "            affiliation.append(d)\n",
    "    \n",
    "    if (\"gender\" in title): \n",
    "        affiliation.append(\"WGGS\")\n",
    "        \n",
    "    if (\"environmental\" in title) and (\"environmental studies\" not in title): \n",
    "        affiliation.append(\"environmental studies\")\n",
    "    \n",
    "    if (\"biblical and early christian studies\" in title): \n",
    "        affiliation.append(\"religion\")\n",
    "        \n",
    "        \n",
    "    if (\"arabic\" in title) and (\"arabic studies\" not in title): \n",
    "        affiliation.append(\"arabic studies\")\n",
    "    \n",
    "    if (\"geology\" in title): \n",
    "        affiliation.append(\"geosciences\")\n",
    "        \n",
    "    if (\"oceanography\" in title): \n",
    "        affiliation.append(\"geosciences\")\n",
    "        \n",
    "    if (\"american\" in title) and (\"american studies\" not in title): \n",
    "        affiliation.append(\"american studies\")\n",
    "        \n",
    "    if (\"marine\" in title): \n",
    "        affiliation.append(\"maritime studies\")\n",
    "        \n",
    "    if (\"poetry\" in title): \n",
    "        affiliation.append(\"english\")\n",
    "        \n",
    "    if (\"international\" in title): \n",
    "        affiliation.append(\"international studies\")\n",
    "        \n",
    "    if (\"athletics\" in title) and (\"physical education\" not in title): \n",
    "        affiliation.append(\"physical education\")\n",
    "        \n",
    "    if (\"romance language\" in title): \n",
    "        affiliation.append(\"romance languages\")\n",
    "    \n",
    "    if (\"legal\" in title) and (\"justice and law\" not in title): \n",
    "        affiliation.append(\"justice and law\")\n",
    "        \n",
    "    if (\"natural science\" in title) and (\"natural sciences\" not in title): \n",
    "        affiliation.append(\"natural sciences\")\n",
    "    \n",
    "    if (len(affiliation) < 1): \n",
    "        # print(title)\n",
    "        affiliation.append(None)\n",
    "    \n",
    "    dept12.append(affiliation)  \n",
    "    \n",
    "df12['dept'] = dept12\n",
    "\n",
    "df12.columns\n",
    "# print(d_list)"
   ]
  },
  {
   "cell_type": "markdown",
   "metadata": {},
   "source": [
    "# Read in faculty 11-12 data from csv"
   ]
  },
  {
   "cell_type": "code",
   "execution_count": 22,
   "metadata": {},
   "outputs": [
    {
     "data": {
      "text/plain": [
       "Index(['last', 'first', 'middle', 'title', 'degrees', 'leave', 'visiting'], dtype='object')"
      ]
     },
     "execution_count": 22,
     "metadata": {},
     "output_type": "execute_result"
    }
   ],
   "source": [
    "df11 = pd.read_csv('11-12/faculty11-12.csv')\n",
    "df11.drop(\"Unnamed: 0\", inplace=True, axis=1)\n",
    "\n",
    "df11.columns"
   ]
  },
  {
   "cell_type": "code",
   "execution_count": 23,
   "metadata": {},
   "outputs": [
    {
     "data": {
      "text/plain": [
       "Index(['last', 'first', 'middle', 'title', 'degrees', 'leave', 'visiting',\n",
       "       'dept'],\n",
       "      dtype='object')"
      ]
     },
     "execution_count": 23,
     "metadata": {},
     "output_type": "execute_result"
    }
   ],
   "source": [
    "# parse department info \n",
    "\n",
    "d_list = [\"africana studies\", \"american studies\", \"ancient languages\", \"anthropology\", \"arabic studies\", \"art\", \"asian studies\", \"astronomy\", \"astrophysics\", \"biochemistry\", \"biology\", \"chemistry\", \"chinese\", \"classics\", \"greek\", \"latin\", \"cognitive science\", \"comparative literature\", \"computer science\", \"critical languages\", \"dance\", \"east asian languages\", \"economics\", \"english\", \"environmental studies\", \"experiential learning\", \"french\", \"geosciences\", \"german\", \"global studies\", \"history\", \"humanities\", \"international studies\", \"italian\", \"japanese\", \"jewish studies\", \"justice and law\", \"latina studies\", \"latino studies\", \"leadership studies\", \"maritime studies\", \"math\", \"music\", \"natural sciences\", \"neuroscience\", \"philosophy\", \"physical education\", \"physics\", \"political economy\", \"political science\", \"psychology\", \"public health\", \"religion\", \"romance languages\", \"russian\", \"science & technology studies\", \"social sciences\", \"social studies\", \"sociology\", \"spanish\", \"statistics\", \"theatre\", \"mystic\", \"wggs\"]\n",
    "dept11 = []\n",
    "\n",
    "for title in df11.title: \n",
    "    affiliation = []\n",
    "    for d in d_list: \n",
    "        if d in title: \n",
    "            affiliation.append(d)\n",
    "    \n",
    "    if (\"gender\" in title): \n",
    "        affiliation.append(\"WGGS\")\n",
    "        \n",
    "    if (\"environmental\" in title) and (\"environmental studies\" not in title): \n",
    "        affiliation.append(\"environmental studies\")\n",
    "    \n",
    "    if (\"biblical and early christian studies\" in title): \n",
    "        affiliation.append(\"religion\")\n",
    "        \n",
    "        \n",
    "    if (\"arabic\" in title) and (\"arabic studies\" not in title): \n",
    "        affiliation.append(\"arabic studies\")\n",
    "    \n",
    "    if (\"geology\" in title): \n",
    "        affiliation.append(\"geosciences\")\n",
    "        \n",
    "    if (\"oceanography\" in title): \n",
    "        affiliation.append(\"geosciences\")\n",
    "        \n",
    "    if (\"american\" in title) and (\"american studies\" not in title): \n",
    "        affiliation.append(\"american studies\")\n",
    "        \n",
    "    if (\"marine\" in title): \n",
    "        affiliation.append(\"maritime studies\")\n",
    "        \n",
    "    if (\"poetry\" in title): \n",
    "        affiliation.append(\"english\")\n",
    "        \n",
    "    if (\"international\" in title): \n",
    "        affiliation.append(\"international studies\")\n",
    "        \n",
    "    if (\"athletics\" in title) and (\"physical education\" not in title): \n",
    "        affiliation.append(\"physical education\")\n",
    "        \n",
    "    if (\"romance language\" in title): \n",
    "        affiliation.append(\"romance languages\")\n",
    "    \n",
    "    if (\"legal\" in title) and (\"justice and law\" not in title): \n",
    "        affiliation.append(\"justice and law\")\n",
    "        \n",
    "    if (\"natural science\" in title) and (\"natural sciences\" not in title): \n",
    "        affiliation.append(\"natural sciences\")\n",
    "    \n",
    "    if (len(affiliation) < 1): \n",
    "        # print(title)\n",
    "        affiliation.append(None)\n",
    "    \n",
    "    dept11.append(affiliation)  \n",
    "    \n",
    "df11['dept'] = dept11\n",
    "\n",
    "df11.columns\n",
    "# print(d_list)"
   ]
  },
  {
   "cell_type": "markdown",
   "metadata": {},
   "source": [
    "# Read in faculty 10-11 data from csv"
   ]
  },
  {
   "cell_type": "code",
   "execution_count": 24,
   "metadata": {},
   "outputs": [
    {
     "data": {
      "text/plain": [
       "Index(['last', 'first', 'middle', 'title', 'degrees', 'leave', 'visiting'], dtype='object')"
      ]
     },
     "execution_count": 24,
     "metadata": {},
     "output_type": "execute_result"
    }
   ],
   "source": [
    "df10 = pd.read_csv('10-11/faculty10-11.csv')\n",
    "df10.drop(\"Unnamed: 0\", inplace=True, axis=1)\n",
    "\n",
    "df10.columns"
   ]
  },
  {
   "cell_type": "code",
   "execution_count": 25,
   "metadata": {},
   "outputs": [
    {
     "data": {
      "text/plain": [
       "Index(['last', 'first', 'middle', 'title', 'degrees', 'leave', 'visiting',\n",
       "       'dept'],\n",
       "      dtype='object')"
      ]
     },
     "execution_count": 25,
     "metadata": {},
     "output_type": "execute_result"
    }
   ],
   "source": [
    "# parse department info \n",
    "\n",
    "d_list = [\"africana studies\", \"american studies\", \"ancient languages\", \"anthropology\", \"arabic studies\", \"art\", \"asian studies\", \"astronomy\", \"astrophysics\", \"biochemistry\", \"biology\", \"chemistry\", \"chinese\", \"classics\", \"greek\", \"latin\", \"cognitive science\", \"comparative literature\", \"computer science\", \"critical languages\", \"dance\", \"east asian languages\", \"economics\", \"english\", \"environmental studies\", \"experiential learning\", \"french\", \"geosciences\", \"german\", \"global studies\", \"history\", \"humanities\", \"international studies\", \"italian\", \"japanese\", \"jewish studies\", \"justice and law\", \"latina studies\", \"latino studies\", \"leadership studies\", \"maritime studies\", \"math\", \"music\", \"natural sciences\", \"neuroscience\", \"philosophy\", \"physical education\", \"physics\", \"political economy\", \"political science\", \"psychology\", \"public health\", \"religion\", \"romance languages\", \"russian\", \"science & technology studies\", \"social sciences\", \"social studies\", \"sociology\", \"spanish\", \"statistics\", \"theatre\", \"mystic\", \"wggs\"]\n",
    "dept10 = []\n",
    "\n",
    "for title in df10.title: \n",
    "    affiliation = []\n",
    "    for d in d_list: \n",
    "        if d in title: \n",
    "            affiliation.append(d)\n",
    "    \n",
    "    if (\"gender\" in title): \n",
    "        affiliation.append(\"WGGS\")\n",
    "        \n",
    "    if (\"environmental\" in title) and (\"environmental studies\" not in title): \n",
    "        affiliation.append(\"environmental studies\")\n",
    "    \n",
    "    if (\"biblical and early christian studies\" in title): \n",
    "        affiliation.append(\"religion\")\n",
    "        \n",
    "        \n",
    "    if (\"arabic\" in title) and (\"arabic studies\" not in title): \n",
    "        affiliation.append(\"arabic studies\")\n",
    "    \n",
    "    if (\"geology\" in title): \n",
    "        affiliation.append(\"geosciences\")\n",
    "        \n",
    "    if (\"oceanography\" in title): \n",
    "        affiliation.append(\"geosciences\")\n",
    "        \n",
    "    if (\"american\" in title) and (\"american studies\" not in title): \n",
    "        affiliation.append(\"american studies\")\n",
    "        \n",
    "    if (\"marine\" in title): \n",
    "        affiliation.append(\"maritime studies\")\n",
    "        \n",
    "    if (\"poetry\" in title): \n",
    "        affiliation.append(\"english\")\n",
    "        \n",
    "    if (\"international\" in title): \n",
    "        affiliation.append(\"international studies\")\n",
    "        \n",
    "    if (\"athletics\" in title) and (\"physical education\" not in title): \n",
    "        affiliation.append(\"physical education\")\n",
    "        \n",
    "    if (\"romance language\" in title): \n",
    "        affiliation.append(\"romance languages\")\n",
    "    \n",
    "    if (\"legal\" in title) and (\"justice and law\" not in title): \n",
    "        affiliation.append(\"justice and law\")\n",
    "        \n",
    "    if (\"natural science\" in title) and (\"natural sciences\" not in title): \n",
    "        affiliation.append(\"natural sciences\")\n",
    "    \n",
    "    if (len(affiliation) < 1): \n",
    "        # print(title)\n",
    "        affiliation.append(None)\n",
    "    \n",
    "    dept10.append(affiliation)  \n",
    "    \n",
    "df10['dept'] = dept10\n",
    "\n",
    "df10.columns\n",
    "# print(d_list)"
   ]
  },
  {
   "cell_type": "markdown",
   "metadata": {},
   "source": [
    "# Read in faculty 09-10 data from csv"
   ]
  },
  {
   "cell_type": "code",
   "execution_count": 26,
   "metadata": {},
   "outputs": [
    {
     "data": {
      "text/plain": [
       "Index(['last', 'first', 'middle', 'title', 'degrees', 'leave', 'visiting'], dtype='object')"
      ]
     },
     "execution_count": 26,
     "metadata": {},
     "output_type": "execute_result"
    }
   ],
   "source": [
    "df9 = pd.read_csv('09-10/faculty09-10.csv')\n",
    "df9.drop(\"Unnamed: 0\", inplace=True, axis=1)\n",
    "\n",
    "df9.columns"
   ]
  },
  {
   "cell_type": "code",
   "execution_count": 27,
   "metadata": {},
   "outputs": [
    {
     "data": {
      "text/plain": [
       "Index(['last', 'first', 'middle', 'title', 'degrees', 'leave', 'visiting',\n",
       "       'dept'],\n",
       "      dtype='object')"
      ]
     },
     "execution_count": 27,
     "metadata": {},
     "output_type": "execute_result"
    }
   ],
   "source": [
    "# parse department info \n",
    "\n",
    "d_list = [\"africana studies\", \"american studies\", \"ancient languages\", \"anthropology\", \"arabic studies\", \"art\", \"asian studies\", \"astronomy\", \"astrophysics\", \"biochemistry\", \"biology\", \"chemistry\", \"chinese\", \"classics\", \"greek\", \"latin\", \"cognitive science\", \"comparative literature\", \"computer science\", \"critical languages\", \"dance\", \"east asian languages\", \"economics\", \"english\", \"environmental studies\", \"experiential learning\", \"french\", \"geosciences\", \"german\", \"global studies\", \"history\", \"humanities\", \"international studies\", \"italian\", \"japanese\", \"jewish studies\", \"justice and law\", \"latina studies\", \"latino studies\", \"leadership studies\", \"maritime studies\", \"math\", \"music\", \"natural sciences\", \"neuroscience\", \"philosophy\", \"physical education\", \"physics\", \"political economy\", \"political science\", \"psychology\", \"public health\", \"religion\", \"romance languages\", \"russian\", \"science & technology studies\", \"social sciences\", \"social studies\", \"sociology\", \"spanish\", \"statistics\", \"theatre\", \"mystic\", \"wggs\"]\n",
    "dept9 = []\n",
    "\n",
    "for title in df9.title: \n",
    "    affiliation = []\n",
    "    for d in d_list: \n",
    "        if d in title: \n",
    "            affiliation.append(d)\n",
    "    \n",
    "    if (\"gender\" in title): \n",
    "        affiliation.append(\"WGGS\")\n",
    "        \n",
    "    if (\"environmental\" in title) and (\"environmental studies\" not in title): \n",
    "        affiliation.append(\"environmental studies\")\n",
    "    \n",
    "    if (\"biblical and early christian studies\" in title): \n",
    "        affiliation.append(\"religion\")\n",
    "        \n",
    "        \n",
    "    if (\"arabic\" in title) and (\"arabic studies\" not in title): \n",
    "        affiliation.append(\"arabic studies\")\n",
    "    \n",
    "    if (\"geology\" in title): \n",
    "        affiliation.append(\"geosciences\")\n",
    "        \n",
    "    if (\"oceanography\" in title): \n",
    "        affiliation.append(\"geosciences\")\n",
    "        \n",
    "    if (\"american\" in title) and (\"american studies\" not in title): \n",
    "        affiliation.append(\"american studies\")\n",
    "        \n",
    "    if (\"marine\" in title): \n",
    "        affiliation.append(\"maritime studies\")\n",
    "        \n",
    "    if (\"poetry\" in title): \n",
    "        affiliation.append(\"english\")\n",
    "        \n",
    "    if (\"international\" in title): \n",
    "        affiliation.append(\"international studies\")\n",
    "        \n",
    "    if (\"athletics\" in title) and (\"physical education\" not in title): \n",
    "        affiliation.append(\"physical education\")\n",
    "        \n",
    "    if (\"romance language\" in title): \n",
    "        affiliation.append(\"romance languages\")\n",
    "    \n",
    "    if (\"legal\" in title) and (\"justice and law\" not in title): \n",
    "        affiliation.append(\"justice and law\")\n",
    "        \n",
    "    if (\"natural science\" in title) and (\"natural sciences\" not in title): \n",
    "        affiliation.append(\"natural sciences\")\n",
    "    \n",
    "    if (len(affiliation) < 1): \n",
    "        # print(title)\n",
    "        affiliation.append(None)\n",
    "    \n",
    "    dept9.append(affiliation)  \n",
    "    \n",
    "df9['dept'] = dept9\n",
    "\n",
    "df9.columns\n",
    "# print(d_list)"
   ]
  },
  {
   "cell_type": "markdown",
   "metadata": {},
   "source": [
    "# Read in faculty 08-09 data from csv"
   ]
  },
  {
   "cell_type": "code",
   "execution_count": 28,
   "metadata": {},
   "outputs": [
    {
     "data": {
      "text/plain": [
       "Index(['last', 'first', 'middle', 'title', 'degrees', 'leave', 'visiting'], dtype='object')"
      ]
     },
     "execution_count": 28,
     "metadata": {},
     "output_type": "execute_result"
    }
   ],
   "source": [
    "df8 = pd.read_csv('08-09/faculty08-09.csv')\n",
    "df8.drop(\"Unnamed: 0\", inplace=True, axis=1)\n",
    "\n",
    "df8.columns"
   ]
  },
  {
   "cell_type": "code",
   "execution_count": 29,
   "metadata": {},
   "outputs": [
    {
     "data": {
      "text/plain": [
       "Index(['last', 'first', 'middle', 'title', 'degrees', 'leave', 'visiting',\n",
       "       'dept'],\n",
       "      dtype='object')"
      ]
     },
     "execution_count": 29,
     "metadata": {},
     "output_type": "execute_result"
    }
   ],
   "source": [
    "# parse department info \n",
    "\n",
    "d_list = [\"africana studies\", \"american studies\", \"ancient languages\", \"anthropology\", \"arabic studies\", \"art\", \"asian studies\", \"astronomy\", \"astrophysics\", \"biochemistry\", \"biology\", \"chemistry\", \"chinese\", \"classics\", \"greek\", \"latin\", \"cognitive science\", \"comparative literature\", \"computer science\", \"critical languages\", \"dance\", \"east asian languages\", \"economics\", \"english\", \"environmental studies\", \"experiential learning\", \"french\", \"geosciences\", \"german\", \"global studies\", \"history\", \"humanities\", \"international studies\", \"italian\", \"japanese\", \"jewish studies\", \"justice and law\", \"latina studies\", \"latino studies\", \"leadership studies\", \"maritime studies\", \"math\", \"music\", \"natural sciences\", \"neuroscience\", \"philosophy\", \"physical education\", \"physics\", \"political economy\", \"political science\", \"psychology\", \"public health\", \"religion\", \"romance languages\", \"russian\", \"science & technology studies\", \"social sciences\", \"social studies\", \"sociology\", \"spanish\", \"statistics\", \"theatre\", \"mystic\", \"wggs\"]\n",
    "dept8 = []\n",
    "\n",
    "for title in df8.title: \n",
    "    affiliation = []\n",
    "    for d in d_list: \n",
    "        if d in title: \n",
    "            affiliation.append(d)\n",
    "    \n",
    "    if (\"gender\" in title): \n",
    "        affiliation.append(\"WGGS\")\n",
    "        \n",
    "    if (\"environmental\" in title) and (\"environmental studies\" not in title): \n",
    "        affiliation.append(\"environmental studies\")\n",
    "    \n",
    "    if (\"biblical and early christian studies\" in title): \n",
    "        affiliation.append(\"religion\")\n",
    "        \n",
    "        \n",
    "    if (\"arabic\" in title) and (\"arabic studies\" not in title): \n",
    "        affiliation.append(\"arabic studies\")\n",
    "    \n",
    "    if (\"geology\" in title): \n",
    "        affiliation.append(\"geosciences\")\n",
    "        \n",
    "    if (\"oceanography\" in title): \n",
    "        affiliation.append(\"geosciences\")\n",
    "        \n",
    "    if (\"american\" in title) and (\"american studies\" not in title): \n",
    "        affiliation.append(\"american studies\")\n",
    "        \n",
    "    if (\"marine\" in title): \n",
    "        affiliation.append(\"maritime studies\")\n",
    "        \n",
    "    if (\"poetry\" in title): \n",
    "        affiliation.append(\"english\")\n",
    "        \n",
    "    if (\"international\" in title): \n",
    "        affiliation.append(\"international studies\")\n",
    "        \n",
    "    if (\"athletics\" in title) and (\"physical education\" not in title): \n",
    "        affiliation.append(\"physical education\")\n",
    "        \n",
    "    if (\"romance language\" in title): \n",
    "        affiliation.append(\"romance languages\")\n",
    "    \n",
    "    if (\"legal\" in title) and (\"justice and law\" not in title): \n",
    "        affiliation.append(\"justice and law\")\n",
    "        \n",
    "    if (\"natural science\" in title) and (\"natural sciences\" not in title): \n",
    "        affiliation.append(\"natural sciences\")\n",
    "        \n",
    "    if (\"jazz\" in title) and (\"music\" not in title): \n",
    "        affiliation.append(\"music\")\n",
    "    \n",
    "    if (len(affiliation) < 1): \n",
    "        # print(title)\n",
    "        affiliation.append(None)\n",
    "    \n",
    "    dept8.append(affiliation)  \n",
    "    \n",
    "df8['dept'] = dept8\n",
    "\n",
    "df8.columns\n",
    "# print(d_list)"
   ]
  },
  {
   "cell_type": "markdown",
   "metadata": {},
   "source": [
    "# Read in faculty 07-08 data from csv"
   ]
  },
  {
   "cell_type": "code",
   "execution_count": 30,
   "metadata": {},
   "outputs": [
    {
     "data": {
      "text/plain": [
       "Index(['last', 'first', 'middle', 'title', 'degrees', 'leave', 'visiting'], dtype='object')"
      ]
     },
     "execution_count": 30,
     "metadata": {},
     "output_type": "execute_result"
    }
   ],
   "source": [
    "df7 = pd.read_csv('07-08/faculty07-08.csv')\n",
    "df7.drop(\"Unnamed: 0\", inplace=True, axis=1)\n",
    "\n",
    "df7.columns"
   ]
  },
  {
   "cell_type": "code",
   "execution_count": 31,
   "metadata": {},
   "outputs": [
    {
     "data": {
      "text/plain": [
       "Index(['last', 'first', 'middle', 'title', 'degrees', 'leave', 'visiting',\n",
       "       'dept'],\n",
       "      dtype='object')"
      ]
     },
     "execution_count": 31,
     "metadata": {},
     "output_type": "execute_result"
    }
   ],
   "source": [
    "# parse department info \n",
    "\n",
    "d_list = [\"africana studies\", \"american studies\", \"ancient languages\", \"anthropology\", \"arabic studies\", \"art\", \"asian studies\", \"astronomy\", \"astrophysics\", \"biochemistry\", \"biology\", \"chemistry\", \"chinese\", \"classics\", \"greek\", \"latin\", \"cognitive science\", \"comparative literature\", \"computer science\", \"critical languages\", \"dance\", \"east asian languages\", \"economics\", \"english\", \"environmental studies\", \"experiential learning\", \"french\", \"geosciences\", \"german\", \"global studies\", \"history\", \"humanities\", \"international studies\", \"italian\", \"japanese\", \"jewish studies\", \"justice and law\", \"latina studies\", \"latino studies\", \"leadership studies\", \"maritime studies\", \"math\", \"music\", \"natural sciences\", \"neuroscience\", \"philosophy\", \"physical education\", \"physics\", \"political economy\", \"political science\", \"psychology\", \"public health\", \"religion\", \"romance languages\", \"russian\", \"science & technology studies\", \"social sciences\", \"social studies\", \"sociology\", \"spanish\", \"statistics\", \"theatre\", \"mystic\", \"wggs\"]\n",
    "dept7 = []\n",
    "\n",
    "for title in df7.title: \n",
    "    affiliation = []\n",
    "    for d in d_list: \n",
    "        if d in title: \n",
    "            affiliation.append(d)\n",
    "    \n",
    "    if (\"gender\" in title): \n",
    "        affiliation.append(\"WGGS\")\n",
    "        \n",
    "    if (\"environmental\" in title) and (\"environmental studies\" not in title): \n",
    "        affiliation.append(\"environmental studies\")\n",
    "    \n",
    "    if (\"biblical and early christian studies\" in title): \n",
    "        affiliation.append(\"religion\")\n",
    "        \n",
    "    if (\"arabic\" in title) and (\"arabic studies\" not in title): \n",
    "        affiliation.append(\"arabic studies\")\n",
    "    \n",
    "    if (\"geology\" in title): \n",
    "        affiliation.append(\"geosciences\")\n",
    "        \n",
    "    if (\"oceanography\" in title): \n",
    "        affiliation.append(\"geosciences\")\n",
    "        \n",
    "    if (\"american\" in title) and (\"american studies\" not in title): \n",
    "        affiliation.append(\"american studies\")\n",
    "        \n",
    "    if (\"marine\" in title): \n",
    "        affiliation.append(\"maritime studies\")\n",
    "        \n",
    "    if (\"poetry\" in title): \n",
    "        affiliation.append(\"english\")\n",
    "        \n",
    "    if (\"international\" in title): \n",
    "        affiliation.append(\"international studies\")\n",
    "        \n",
    "    if (\"athletics\" in title) and (\"physical education\" not in title): \n",
    "        affiliation.append(\"physical education\")\n",
    "        \n",
    "    if (\"romance language\" in title): \n",
    "        affiliation.append(\"romance languages\")\n",
    "    \n",
    "    if (\"legal\" in title) and (\"justice and law\" not in title): \n",
    "        affiliation.append(\"justice and law\")\n",
    "        \n",
    "    if (\"natural science\" in title) and (\"natural sciences\" not in title): \n",
    "        affiliation.append(\"natural sciences\")\n",
    "        \n",
    "    if (\"jazz\" in title) and (\"music\" not in title): \n",
    "        affiliation.append(\"music\")\n",
    "    \n",
    "    if (len(affiliation) < 1): \n",
    "        # print(title)\n",
    "        affiliation.append(None)\n",
    "    \n",
    "    dept7.append(affiliation)  \n",
    "    \n",
    "df7['dept'] = dept7\n",
    "\n",
    "df7.columns\n",
    "# print(d_list)"
   ]
  },
  {
   "cell_type": "markdown",
   "metadata": {},
   "source": [
    "# Make sure all columns are accounted for in all years "
   ]
  },
  {
   "cell_type": "code",
   "execution_count": 32,
   "metadata": {},
   "outputs": [
    {
     "data": {
      "text/plain": [
       "Index(['last', 'first', 'middle', 'title', 'degrees', 'leave', 'visiting',\n",
       "       'dept'],\n",
       "      dtype='object')"
      ]
     },
     "execution_count": 32,
     "metadata": {},
     "output_type": "execute_result"
    }
   ],
   "source": [
    "df21.columns"
   ]
  },
  {
   "cell_type": "code",
   "execution_count": 33,
   "metadata": {},
   "outputs": [],
   "source": [
    "df_list = [df21, df20, df19, df18, df17, df16, df15, df14, df13, df12, df11, df10, df9, df8, df7]\n",
    "\n",
    "# make sure all years have desired columns\n",
    "cols = [\"last\", \"first\", \"middle\", \"title\", \"dept\", \"degrees\", \"leave\", \"visiting\", \"name\"]\n",
    "for df in df_list: \n",
    "    for column in cols: \n",
    "        if column not in df.columns: \n",
    "            df[column] = None"
   ]
  },
  {
   "cell_type": "markdown",
   "metadata": {},
   "source": [
    "# Put columns in consistent order across all years"
   ]
  },
  {
   "cell_type": "code",
   "execution_count": 34,
   "metadata": {},
   "outputs": [],
   "source": [
    "# desired order: [last, first, middle, dept, leave, visiting, title, degrees, name]\n",
    "\n",
    "df21 = df21.reindex(columns=['last', 'first', 'middle', 'dept', 'leave', 'visiting', 'title', 'degrees', 'name'])\n",
    "df20 = df20.reindex(columns=['last', 'first', 'middle', 'dept', 'leave', 'visiting', 'title', 'degrees', 'name'])\n",
    "df19 = df19.reindex(columns=['last', 'first', 'middle', 'dept', 'leave', 'visiting', 'title', 'degrees', 'name'])\n",
    "df18 = df18.reindex(columns=['last', 'first', 'middle', 'dept', 'leave', 'visiting', 'title', 'degrees', 'name'])\n",
    "df17 = df17.reindex(columns=['last', 'first', 'middle', 'dept', 'leave', 'visiting', 'title', 'degrees', 'name'])\n",
    "df16 = df16.reindex(columns=['last', 'first', 'middle', 'dept', 'leave', 'visiting', 'title', 'degrees', 'name'])\n",
    "df15 = df15.reindex(columns=['last', 'first', 'middle', 'dept', 'leave', 'visiting', 'title', 'degrees', 'name'])\n",
    "df14 = df14.reindex(columns=['last', 'first', 'middle', 'dept', 'leave', 'visiting', 'title', 'degrees', 'name'])\n",
    "df13 = df13.reindex(columns=['last', 'first', 'middle', 'dept', 'leave', 'visiting', 'title', 'degrees', 'name'])\n",
    "df12 = df12.reindex(columns=['last', 'first', 'middle', 'dept', 'leave', 'visiting', 'title', 'degrees', 'name'])\n",
    "df11 = df11.reindex(columns=['last', 'first', 'middle', 'dept', 'leave', 'visiting', 'title', 'degrees', 'name'])\n",
    "df10 = df10.reindex(columns=['last', 'first', 'middle', 'dept', 'leave', 'visiting', 'title', 'degrees', 'name'])\n",
    "df9 = df9.reindex(columns=['last', 'first', 'middle', 'dept', 'leave', 'visiting', 'title', 'degrees', 'name'])\n",
    "df8 = df8.reindex(columns=['last', 'first', 'middle', 'dept', 'leave', 'visiting', 'title', 'degrees', 'name'])\n",
    "df7 = df7.reindex(columns=['last', 'first', 'middle', 'dept', 'leave', 'visiting', 'title', 'degrees', 'name'])"
   ]
  },
  {
   "cell_type": "markdown",
   "metadata": {},
   "source": [
    "# Append"
   ]
  },
  {
   "cell_type": "code",
   "execution_count": 35,
   "metadata": {},
   "outputs": [
    {
     "data": {
      "text/html": [
       "<div>\n",
       "<style scoped>\n",
       "    .dataframe tbody tr th:only-of-type {\n",
       "        vertical-align: middle;\n",
       "    }\n",
       "\n",
       "    .dataframe tbody tr th {\n",
       "        vertical-align: top;\n",
       "    }\n",
       "\n",
       "    .dataframe thead th {\n",
       "        text-align: right;\n",
       "    }\n",
       "</style>\n",
       "<table border=\"1\" class=\"dataframe\">\n",
       "  <thead>\n",
       "    <tr style=\"text-align: right;\">\n",
       "      <th></th>\n",
       "      <th>last</th>\n",
       "      <th>first</th>\n",
       "      <th>middle</th>\n",
       "      <th>dept</th>\n",
       "      <th>leave</th>\n",
       "      <th>visiting</th>\n",
       "      <th>title</th>\n",
       "      <th>degrees</th>\n",
       "      <th>name</th>\n",
       "    </tr>\n",
       "  </thead>\n",
       "  <tbody>\n",
       "    <tr>\n",
       "      <th>0</th>\n",
       "      <td>aalberts</td>\n",
       "      <td>daniel</td>\n",
       "      <td>p.</td>\n",
       "      <td>[physics]</td>\n",
       "      <td>s</td>\n",
       "      <td>0</td>\n",
       "      <td>kennedy p. richardson '71 professor of physics</td>\n",
       "      <td>1989, b.s., massachusetts institute of technol...</td>\n",
       "      <td>None</td>\n",
       "    </tr>\n",
       "    <tr>\n",
       "      <th>1</th>\n",
       "      <td>adalsteinsson</td>\n",
       "      <td>tomas</td>\n",
       "      <td>NaN</td>\n",
       "      <td>[physical education]</td>\n",
       "      <td>n</td>\n",
       "      <td>0</td>\n",
       "      <td>assistant professor of physical education and ...</td>\n",
       "      <td>2011, m.a., john f. kennedy university</td>\n",
       "      <td>None</td>\n",
       "    </tr>\n",
       "    <tr>\n",
       "      <th>2</th>\n",
       "      <td>adams</td>\n",
       "      <td>colin</td>\n",
       "      <td>c.</td>\n",
       "      <td>[math]</td>\n",
       "      <td>n</td>\n",
       "      <td>0</td>\n",
       "      <td>thomas t. read professor of mathematics</td>\n",
       "      <td>1978, b.s., massachusetts institute of technol...</td>\n",
       "      <td>None</td>\n",
       "    </tr>\n",
       "    <tr>\n",
       "      <th>3</th>\n",
       "      <td>adhami</td>\n",
       "      <td>zaid</td>\n",
       "      <td>NaN</td>\n",
       "      <td>[anthropology, religion, sociology]</td>\n",
       "      <td>n</td>\n",
       "      <td>0</td>\n",
       "      <td>assistant professor of religion and faculty af...</td>\n",
       "      <td>2010, b.a., stanford university, 2010, m.a., s...</td>\n",
       "      <td>None</td>\n",
       "    </tr>\n",
       "    <tr>\n",
       "      <th>4</th>\n",
       "      <td>agosto</td>\n",
       "      <td>efrain</td>\n",
       "      <td>NaN</td>\n",
       "      <td>[religion]</td>\n",
       "      <td>n</td>\n",
       "      <td>0</td>\n",
       "      <td>croghan bicentennial professor in biblical and...</td>\n",
       "      <td>1977, b.a., columbia university, 1982, m.div.,...</td>\n",
       "      <td>None</td>\n",
       "    </tr>\n",
       "    <tr>\n",
       "      <th>0</th>\n",
       "      <td>aalberts</td>\n",
       "      <td>daniel</td>\n",
       "      <td>p.</td>\n",
       "      <td>[physics]</td>\n",
       "      <td>n</td>\n",
       "      <td>0</td>\n",
       "      <td>kennedy p. richardson '71 professor of physics</td>\n",
       "      <td>1989, b.s., massachusetts institute of technol...</td>\n",
       "      <td>[daniel, p., aalberts]</td>\n",
       "    </tr>\n",
       "    <tr>\n",
       "      <th>1</th>\n",
       "      <td>adalsteinsson</td>\n",
       "      <td>tomas</td>\n",
       "      <td>None</td>\n",
       "      <td>[physical education]</td>\n",
       "      <td>n</td>\n",
       "      <td>0</td>\n",
       "      <td>assistant professor of physical education and ...</td>\n",
       "      <td>2011, m.a., john f. kennedy university</td>\n",
       "      <td>[tomas, adalsteinsson]</td>\n",
       "    </tr>\n",
       "    <tr>\n",
       "      <th>2</th>\n",
       "      <td>adams</td>\n",
       "      <td>colin</td>\n",
       "      <td>c.</td>\n",
       "      <td>[math]</td>\n",
       "      <td>y</td>\n",
       "      <td>0</td>\n",
       "      <td>thomas t. read professor of mathematics</td>\n",
       "      <td>1978, b.s., massachusetts institute of technol...</td>\n",
       "      <td>[colin, c., adams]</td>\n",
       "    </tr>\n",
       "    <tr>\n",
       "      <th>3</th>\n",
       "      <td>adhami</td>\n",
       "      <td>zaid</td>\n",
       "      <td>None</td>\n",
       "      <td>[anthropology, religion, sociology]</td>\n",
       "      <td>f</td>\n",
       "      <td>0</td>\n",
       "      <td>assistant professor of religion and faculty af...</td>\n",
       "      <td>2010, m.a., stanford university, 2010, b.a., s...</td>\n",
       "      <td>[zaid, adhami]</td>\n",
       "    </tr>\n",
       "    <tr>\n",
       "      <th>4</th>\n",
       "      <td>albrecht</td>\n",
       "      <td>jeannie</td>\n",
       "      <td>r</td>\n",
       "      <td>[computer science]</td>\n",
       "      <td>y</td>\n",
       "      <td>0</td>\n",
       "      <td>professor of computer science</td>\n",
       "      <td>2001, b.s., gettysburg college, 2003, m.s., du...</td>\n",
       "      <td>[jeannie, r, albrecht]</td>\n",
       "    </tr>\n",
       "  </tbody>\n",
       "</table>\n",
       "</div>"
      ],
      "text/plain": [
       "            last    first middle                                 dept leave  \\\n",
       "0       aalberts   daniel     p.                            [physics]     s   \n",
       "1  adalsteinsson    tomas    NaN                 [physical education]     n   \n",
       "2          adams    colin     c.                               [math]     n   \n",
       "3         adhami     zaid    NaN  [anthropology, religion, sociology]     n   \n",
       "4         agosto   efrain    NaN                           [religion]     n   \n",
       "0       aalberts   daniel     p.                            [physics]     n   \n",
       "1  adalsteinsson    tomas   None                 [physical education]     n   \n",
       "2          adams    colin     c.                               [math]     y   \n",
       "3         adhami     zaid   None  [anthropology, religion, sociology]     f   \n",
       "4       albrecht  jeannie      r                   [computer science]     y   \n",
       "\n",
       "   visiting                                              title  \\\n",
       "0         0     kennedy p. richardson '71 professor of physics   \n",
       "1         0  assistant professor of physical education and ...   \n",
       "2         0            thomas t. read professor of mathematics   \n",
       "3         0  assistant professor of religion and faculty af...   \n",
       "4         0  croghan bicentennial professor in biblical and...   \n",
       "0         0     kennedy p. richardson '71 professor of physics   \n",
       "1         0  assistant professor of physical education and ...   \n",
       "2         0            thomas t. read professor of mathematics   \n",
       "3         0  assistant professor of religion and faculty af...   \n",
       "4         0                      professor of computer science   \n",
       "\n",
       "                                             degrees                    name  \n",
       "0  1989, b.s., massachusetts institute of technol...                    None  \n",
       "1             2011, m.a., john f. kennedy university                    None  \n",
       "2  1978, b.s., massachusetts institute of technol...                    None  \n",
       "3  2010, b.a., stanford university, 2010, m.a., s...                    None  \n",
       "4  1977, b.a., columbia university, 1982, m.div.,...                    None  \n",
       "0  1989, b.s., massachusetts institute of technol...  [daniel, p., aalberts]  \n",
       "1             2011, m.a., john f. kennedy university  [tomas, adalsteinsson]  \n",
       "2  1978, b.s., massachusetts institute of technol...      [colin, c., adams]  \n",
       "3  2010, m.a., stanford university, 2010, b.a., s...          [zaid, adhami]  \n",
       "4  2001, b.s., gettysburg college, 2003, m.s., du...  [jeannie, r, albrecht]  "
      ]
     },
     "execution_count": 35,
     "metadata": {},
     "output_type": "execute_result"
    }
   ],
   "source": [
    "dfs = [df21.head(), df20.head()]\n",
    "pd.concat(dfs)"
   ]
  },
  {
   "cell_type": "code",
   "execution_count": 36,
   "metadata": {},
   "outputs": [],
   "source": [
    "dfs = [df21, df20, df19, df18, df17, df16, df15, df14, df13, df12, df11, df10, df9, df8, df7]\n",
    "df = pd.concat(dfs)"
   ]
  },
  {
   "cell_type": "code",
   "execution_count": 37,
   "metadata": {},
   "outputs": [
    {
     "data": {
      "text/html": [
       "<div>\n",
       "<style scoped>\n",
       "    .dataframe tbody tr th:only-of-type {\n",
       "        vertical-align: middle;\n",
       "    }\n",
       "\n",
       "    .dataframe tbody tr th {\n",
       "        vertical-align: top;\n",
       "    }\n",
       "\n",
       "    .dataframe thead th {\n",
       "        text-align: right;\n",
       "    }\n",
       "</style>\n",
       "<table border=\"1\" class=\"dataframe\">\n",
       "  <thead>\n",
       "    <tr style=\"text-align: right;\">\n",
       "      <th></th>\n",
       "      <th>last</th>\n",
       "      <th>first</th>\n",
       "      <th>middle</th>\n",
       "      <th>dept</th>\n",
       "      <th>leave</th>\n",
       "      <th>visiting</th>\n",
       "      <th>title</th>\n",
       "      <th>degrees</th>\n",
       "      <th>name</th>\n",
       "    </tr>\n",
       "  </thead>\n",
       "  <tbody>\n",
       "    <tr>\n",
       "      <th>0</th>\n",
       "      <td>aalberts</td>\n",
       "      <td>daniel</td>\n",
       "      <td>p.</td>\n",
       "      <td>[physics]</td>\n",
       "      <td>s</td>\n",
       "      <td>0</td>\n",
       "      <td>kennedy p. richardson '71 professor of physics</td>\n",
       "      <td>1989, b.s., massachusetts institute of technol...</td>\n",
       "      <td>None</td>\n",
       "    </tr>\n",
       "    <tr>\n",
       "      <th>1</th>\n",
       "      <td>adalsteinsson</td>\n",
       "      <td>tomas</td>\n",
       "      <td>NaN</td>\n",
       "      <td>[physical education]</td>\n",
       "      <td>n</td>\n",
       "      <td>0</td>\n",
       "      <td>assistant professor of physical education and ...</td>\n",
       "      <td>2011, m.a., john f. kennedy university</td>\n",
       "      <td>None</td>\n",
       "    </tr>\n",
       "    <tr>\n",
       "      <th>2</th>\n",
       "      <td>adams</td>\n",
       "      <td>colin</td>\n",
       "      <td>c.</td>\n",
       "      <td>[math]</td>\n",
       "      <td>n</td>\n",
       "      <td>0</td>\n",
       "      <td>thomas t. read professor of mathematics</td>\n",
       "      <td>1978, b.s., massachusetts institute of technol...</td>\n",
       "      <td>None</td>\n",
       "    </tr>\n",
       "    <tr>\n",
       "      <th>3</th>\n",
       "      <td>adhami</td>\n",
       "      <td>zaid</td>\n",
       "      <td>NaN</td>\n",
       "      <td>[anthropology, religion, sociology]</td>\n",
       "      <td>n</td>\n",
       "      <td>0</td>\n",
       "      <td>assistant professor of religion and faculty af...</td>\n",
       "      <td>2010, b.a., stanford university, 2010, m.a., s...</td>\n",
       "      <td>None</td>\n",
       "    </tr>\n",
       "    <tr>\n",
       "      <th>4</th>\n",
       "      <td>agosto</td>\n",
       "      <td>efrain</td>\n",
       "      <td>NaN</td>\n",
       "      <td>[religion]</td>\n",
       "      <td>n</td>\n",
       "      <td>0</td>\n",
       "      <td>croghan bicentennial professor in biblical and...</td>\n",
       "      <td>1977, b.a., columbia university, 1982, m.div.,...</td>\n",
       "      <td>None</td>\n",
       "    </tr>\n",
       "    <tr>\n",
       "      <th>...</th>\n",
       "      <td>...</td>\n",
       "      <td>...</td>\n",
       "      <td>...</td>\n",
       "      <td>...</td>\n",
       "      <td>...</td>\n",
       "      <td>...</td>\n",
       "      <td>...</td>\n",
       "      <td>...</td>\n",
       "      <td>...</td>\n",
       "    </tr>\n",
       "    <tr>\n",
       "      <th>385</th>\n",
       "      <td>yu</td>\n",
       "      <td>li</td>\n",
       "      <td>NaN</td>\n",
       "      <td>[chinese]</td>\n",
       "      <td>n</td>\n",
       "      <td>0</td>\n",
       "      <td>assistant professor of chinese</td>\n",
       "      <td>b.a. (1995) east china normal university; ph.d...</td>\n",
       "      <td>None</td>\n",
       "    </tr>\n",
       "    <tr>\n",
       "      <th>386</th>\n",
       "      <td>zaki</td>\n",
       "      <td>safa</td>\n",
       "      <td>r.</td>\n",
       "      <td>[psychology]</td>\n",
       "      <td>n</td>\n",
       "      <td>0</td>\n",
       "      <td>assistant professor of psychology</td>\n",
       "      <td>b.a. (1989) american university, cairo; ph.d. ...</td>\n",
       "      <td>None</td>\n",
       "    </tr>\n",
       "    <tr>\n",
       "      <th>387</th>\n",
       "      <td>zimmerberg</td>\n",
       "      <td>betty</td>\n",
       "      <td>NaN</td>\n",
       "      <td>[psychology]</td>\n",
       "      <td>n</td>\n",
       "      <td>0</td>\n",
       "      <td>professor of psychology</td>\n",
       "      <td>b.a. (1971) harvard; ph.d. (1976) c.u.n.y.</td>\n",
       "      <td>None</td>\n",
       "    </tr>\n",
       "    <tr>\n",
       "      <th>388</th>\n",
       "      <td>zimmerman</td>\n",
       "      <td>david</td>\n",
       "      <td>j.</td>\n",
       "      <td>[political economy]</td>\n",
       "      <td>n</td>\n",
       "      <td>0</td>\n",
       "      <td>orrin sage professor of political economy</td>\n",
       "      <td>b.comm. (1985) university of toronto; ph.d. (1...</td>\n",
       "      <td>None</td>\n",
       "    </tr>\n",
       "    <tr>\n",
       "      <th>389</th>\n",
       "      <td>zottoli</td>\n",
       "      <td>steven</td>\n",
       "      <td>j.</td>\n",
       "      <td>[biology]</td>\n",
       "      <td>n</td>\n",
       "      <td>0</td>\n",
       "      <td>howard b. schow ’50 and nan w. schow professor...</td>\n",
       "      <td>b.a. (1969) bowdoin; ph.d. (1976) university o...</td>\n",
       "      <td>None</td>\n",
       "    </tr>\n",
       "  </tbody>\n",
       "</table>\n",
       "<p>6150 rows × 9 columns</p>\n",
       "</div>"
      ],
      "text/plain": [
       "              last   first middle                                 dept leave  \\\n",
       "0         aalberts  daniel     p.                            [physics]     s   \n",
       "1    adalsteinsson   tomas    NaN                 [physical education]     n   \n",
       "2            adams   colin     c.                               [math]     n   \n",
       "3           adhami    zaid    NaN  [anthropology, religion, sociology]     n   \n",
       "4           agosto  efrain    NaN                           [religion]     n   \n",
       "..             ...     ...    ...                                  ...   ...   \n",
       "385             yu      li    NaN                            [chinese]     n   \n",
       "386           zaki    safa     r.                         [psychology]     n   \n",
       "387     zimmerberg   betty    NaN                         [psychology]     n   \n",
       "388      zimmerman   david     j.                  [political economy]     n   \n",
       "389        zottoli  steven     j.                            [biology]     n   \n",
       "\n",
       "    visiting                                              title  \\\n",
       "0          0     kennedy p. richardson '71 professor of physics   \n",
       "1          0  assistant professor of physical education and ...   \n",
       "2          0            thomas t. read professor of mathematics   \n",
       "3          0  assistant professor of religion and faculty af...   \n",
       "4          0  croghan bicentennial professor in biblical and...   \n",
       "..       ...                                                ...   \n",
       "385        0                     assistant professor of chinese   \n",
       "386        0                  assistant professor of psychology   \n",
       "387        0                            professor of psychology   \n",
       "388        0          orrin sage professor of political economy   \n",
       "389        0  howard b. schow ’50 and nan w. schow professor...   \n",
       "\n",
       "                                               degrees  name  \n",
       "0    1989, b.s., massachusetts institute of technol...  None  \n",
       "1               2011, m.a., john f. kennedy university  None  \n",
       "2    1978, b.s., massachusetts institute of technol...  None  \n",
       "3    2010, b.a., stanford university, 2010, m.a., s...  None  \n",
       "4    1977, b.a., columbia university, 1982, m.div.,...  None  \n",
       "..                                                 ...   ...  \n",
       "385  b.a. (1995) east china normal university; ph.d...  None  \n",
       "386  b.a. (1989) american university, cairo; ph.d. ...  None  \n",
       "387         b.a. (1971) harvard; ph.d. (1976) c.u.n.y.  None  \n",
       "388  b.comm. (1985) university of toronto; ph.d. (1...  None  \n",
       "389  b.a. (1969) bowdoin; ph.d. (1976) university o...  None  \n",
       "\n",
       "[6150 rows x 9 columns]"
      ]
     },
     "execution_count": 37,
     "metadata": {},
     "output_type": "execute_result"
    }
   ],
   "source": [
    "df"
   ]
  },
  {
   "cell_type": "code",
   "execution_count": 38,
   "metadata": {},
   "outputs": [],
   "source": [
    "filepath = Path('math308/all_data.csv')  \n",
    "filepath.parent.mkdir(parents=True, exist_ok=True)  \n",
    "df.to_csv(filepath)  "
   ]
  },
  {
   "cell_type": "code",
   "execution_count": null,
   "metadata": {},
   "outputs": [],
   "source": []
  }
 ],
 "metadata": {
  "kernelspec": {
   "display_name": "Python 3",
   "language": "python",
   "name": "python3"
  },
  "language_info": {
   "codemirror_mode": {
    "name": "ipython",
    "version": 3
   },
   "file_extension": ".py",
   "mimetype": "text/x-python",
   "name": "python",
   "nbconvert_exporter": "python",
   "pygments_lexer": "ipython3",
   "version": "3.8.5"
  }
 },
 "nbformat": 4,
 "nbformat_minor": 4
}
